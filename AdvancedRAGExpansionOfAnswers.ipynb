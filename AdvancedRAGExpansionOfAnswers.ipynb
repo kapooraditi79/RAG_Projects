{
 "cells": [
  {
   "cell_type": "markdown",
   "id": "269d87cb",
   "metadata": {},
   "source": [
    "### Pitfalls of RAG.\n",
    "* Limited Contextual understanding\n",
    "* They retrieve doucments solely based on keyword matching.\n",
    "* Qulaity and relevance of the retrived docs is firly poor. RAG does not rank the docs.\n",
    "* Poor Integration between retrieval and generation.\n",
    "* The LLMs can ignore the docs provided by RAG.\n",
    "* Naive RAGS suffer in large dataset. That is because of slower retrieval and inadequate indexing of the large dataset.\n",
    "* They lack robustness. They lack the ability to handle complex queries or ambiguous queries robustly.\n",
    "* They are inadaptable."
   ]
  },
  {
   "cell_type": "markdown",
   "id": "93780217",
   "metadata": {},
   "source": [
    "### Advanced RAG\n",
    "* Enhanced RAG RETRIEVAL.\n",
    "* Pre-Retrieval:\n",
    "    * Improving the indexing structure. and user's query.\n",
    "    * Improving data details, adding extra information\n",
    "* post- Retrievl:\n",
    "    * Combine pre-retrieval data with the original query.\n",
    "        * Re ranking to highlight important information."
   ]
  },
  {
   "cell_type": "markdown",
   "id": "fceb26b8",
   "metadata": {},
   "source": [
    "### Some Advanced RAG TECHNIQUES\n",
    "* Query Expansion:\n",
    "    * Generate potential answers to the query [using an LLM] and to get relevant context.\n",
    "        * In this: You first pass the original query to the LLM.. let it generate an answer_1.\n",
    "        * Next concatenate the query and the answer_1, into the vector database and again generate the Query_Result. \n",
    "        * Pass that into an LLM. Generate and answer.\n",
    "    * Use Cases (with generated answers):\n",
    "        * Information Retrieval\n",
    "        * Question Answering Systems\n",
    "        * E Commerce Search\n",
    "        * Academic Research"
   ]
  },
  {
   "cell_type": "markdown",
   "id": "45e41e07",
   "metadata": {},
   "source": [
    "| Stage | Component | Description | Tools/Options |\n",
    "|-------|-----------|-------------|---------------|\n",
    "| **A** | **PDF Files** | Input documents | Raw PDF documents |\n",
    "| **B** | **Advanced Parser** | Extract and parse content from PDFs | LlamaParse, PyMuPDF |\n",
    "| **C** | **Chunking & Metadata** | Split content into manageable chunks with metadata | LlamaIndex, LangChain |\n",
    "| **D** | **Embeddings** | Convert text chunks into vector representations | OpenAI, HuggingFace, InstructorXL |\n",
    "| **E** | **Vector Database** | Store and index embeddings for similarity search | Chroma, Pinecone, FAISS |\n",
    "| **F** | **LLM Response** | Generate answers using retrieved context | Any LLM with retrieved context |\n",
    "\n",
    "## Pipeline Flow\n",
    "```\n",
    "PDF Files → Advanced Parser → Chunking & Metadata → Embeddings → Vector DB → LLM Response\n",
    "```"
   ]
  },
  {
   "cell_type": "markdown",
   "id": "c0c544c9",
   "metadata": {},
   "source": [
    "| Scenario                                       | Recommended Stack                          |\n",
    "| ---------------------------------------------- | ------------------------------------------ |\n",
    "| You want **high accuracy parsing with layout** | `PyMuPDF` or `Unstructured.io`             |\n",
    "| You want **fully managed RAG pipeline**        | `LlamaParse + LlamaIndex`                  |\n",
    "| You have **academic/research papers**          | `Grobid + LangChain`                       |\n",
    "| You want **minimal code, fast RAG MVP**        | `Embedchain` or `RAGatouille`              |\n",
    "| You have **scanned documents**                 | `PyMuPDF` + `Tesseract OCR` + `LayoutLMv3` |\n"
   ]
  },
  {
   "cell_type": "markdown",
   "id": "5cddac7c",
   "metadata": {},
   "source": [
    "| Library                                                                                              | Strengths                                   | Best For                                               |\n",
    "| ---------------------------------------------------------------------------------------------------- | ------------------------------------------- | ------------------------------------------------------ |\n",
    "| **[PyMuPDF (`fitz`)](https://pymupdf.readthedocs.io/)**                                              | Fast, supports images, fonts, layout info   | Structured parsing, extracting text **with layout**    |\n",
    "| **[pdfminer.six](https://github.com/pdfminer/pdfminer.six)**                                         | Fine-grained layout, text positioning       | Table & figure-aware parsing, **OCR fallback**         |\n",
    "| **[Grobid](https://github.com/kermitt2/grobid)**                                                     | ML-powered, structured data extraction      | Research papers, metadata extraction (titles, authors) |\n",
    "| **[LlamaParse (by LlamaIndex)](https://docs.llamaindex.ai/en/stable/examples/parser/llamaparse/)**   | Hosted API, uses layout + ML                | RAG pipelines (best for LLMs), **zero setup**          |\n",
    "| **[Unstructured.io](https://github.com/Unstructured-IO/unstructured)**                               | Parses HTML, PDFs, images, etc. into chunks | **General unstructured doc to structured JSON**        |\n",
    "| **[OCR + LayoutLMv3 (Hugging Face)](https://huggingface.co/docs/transformers/model_doc/layoutlmv3)** | Use for scanned PDFs or visual layouts      | Forms, invoices, scanned docs                          |\n"
   ]
  },
  {
   "cell_type": "markdown",
   "id": "f8e8eab2",
   "metadata": {},
   "source": [
    "# Advanced Agentic RAG Pipeline\n",
    "\n",
    "## Core RAG Components\n",
    "| Stage | Component | Description | Tools/Options |\n",
    "|-------|-----------|-------------|---------------|\n",
    "| **A** | **Document Ingestion** | Multi-format document input | PDF, DOCX, HTML, Web scraping |\n",
    "| **B** | **Intelligent Parser** | Context-aware parsing with metadata extraction | LlamaParse, Unstructured.io, PyMuPDF |\n",
    "| **C** | **Adaptive Chunking** | Dynamic chunking based on document structure | LlamaIndex, LangChain, Semantic chunking |\n",
    "| **D** | **Multi-Modal Embeddings** | Text + image embeddings with metadata | OpenAI, Cohere, BGE, InstructorXL |\n",
    "| **E** | **Hybrid Vector Store** | Vector + keyword + graph storage | Pinecone, Weaviate, Qdrant, Neo4j |\n",
    "\n",
    "## Agentic AI Layer\n",
    "| Stage | Agent Component | Description | Implementation |\n",
    "|-------|-----------------|-------------|----------------|\n",
    "| **F** | **Query Router** | Intelligently routes queries to appropriate retrievers | LangGraph, CrewAI, AutoGen |\n",
    "| **G** | **Multi-Agent Retriever** | Specialized agents for different retrieval strategies | Dense, sparse, hybrid, reranking agents |\n",
    "| **H** | **Context Synthesizer** | Combines and validates retrieved information | Cross-referencing and fact-checking agents |\n",
    "| **I** | **Response Orchestrator** | Plans and executes multi-step reasoning | Tool-calling agents with memory |\n",
    "| **J** | **Quality Assurance** | Validates and improves responses | Self-reflection and critique agents |\n",
    "\n",
    "## Advanced Features\n",
    "| Feature | Component | Description | Tools |\n",
    "|---------|-----------|-------------|-------|\n",
    "| **Memory** | **Conversation Memory** | Maintains context across interactions | LangGraph StateGraph, Redis |\n",
    "| **Planning** | **Task Decomposer** | Breaks complex queries into subtasks | ReAct, Plan-and-Execute patterns |\n",
    "| **Tools** | **Function Calling** | Accesses external APIs and databases | OpenAI Functions, LangChain Tools |\n",
    "| **Feedback** | **Learning Loop** | Improves based on user feedback | RLHF, preference learning |\n",
    "\n",
    "## Pipeline Flow\n",
    "```\n",
    "Documents → Intelligent Parser → Adaptive Chunking → Multi-Modal Embeddings → Hybrid Vector Store\n",
    "                                                                                      ↓\n",
    "User Query → Query Router → Multi-Agent Retriever → Context Synthesizer → Response Orchestrator → Quality Assurance → Final Response\n",
    "                ↑                                                                                           ↓\n",
    "            Memory & Planning ←←←←←←←←←←←←←←←←←←←←←←←←←←←←←←←←←←←←←←←←←←←←←←←←←←←←←←←←←←←←←←←←←←←←←←←←←←←←←← Feedback Loop\n",
    "```\n",
    "\n",
    "## Key Agentic Frameworks\n",
    "- **LangGraph**: State-based agent orchestration\n",
    "- **CrewAI**: Multi-agent collaboration framework  \n",
    "- **AutoGen**: Conversational multi-agent system\n",
    "- **LlamaIndex Agents**: Document-focused agent tools\n",
    "- **Haystack Agents**: Production-ready agent pipelines"
   ]
  },
  {
   "cell_type": "markdown",
   "id": "6225187c",
   "metadata": {},
   "source": [
    "## Lets GO Hands-On"
   ]
  },
  {
   "cell_type": "markdown",
   "id": "e1b44af1",
   "metadata": {},
   "source": [
    "*heads up: we will be working on the microsoft annual report [85 pages]*"
   ]
  },
  {
   "cell_type": "code",
   "execution_count": 5,
   "id": "0bbb5a2c",
   "metadata": {},
   "outputs": [
    {
     "name": "stdout",
     "output_type": "stream",
     "text": [
      "Requirement already satisfied: chromadb in c:\\users\\think\\anaconda3\\lib\\site-packages (1.0.10)\n",
      "Requirement already satisfied: pypdf in c:\\users\\think\\anaconda3\\lib\\site-packages (5.1.0)\n",
      "Requirement already satisfied: ollama in c:\\users\\think\\anaconda3\\lib\\site-packages (0.5.1)\n",
      "Requirement already satisfied: build>=1.0.3 in c:\\users\\think\\anaconda3\\lib\\site-packages (from chromadb) (1.2.2.post1)\n",
      "Requirement already satisfied: pydantic>=1.9 in c:\\users\\think\\anaconda3\\lib\\site-packages (from chromadb) (2.11.5)\n",
      "Requirement already satisfied: fastapi==0.115.9 in c:\\users\\think\\anaconda3\\lib\\site-packages (from chromadb) (0.115.9)\n",
      "Requirement already satisfied: uvicorn>=0.18.3 in c:\\users\\think\\anaconda3\\lib\\site-packages (from uvicorn[standard]>=0.18.3->chromadb) (0.34.0)\n",
      "Requirement already satisfied: numpy>=1.22.5 in c:\\users\\think\\anaconda3\\lib\\site-packages (from chromadb) (1.26.4)\n",
      "Requirement already satisfied: posthog>=2.4.0 in c:\\users\\think\\anaconda3\\lib\\site-packages (from chromadb) (3.8.4)\n",
      "Requirement already satisfied: typing-extensions>=4.5.0 in c:\\users\\think\\anaconda3\\lib\\site-packages (from chromadb) (4.13.2)\n",
      "Requirement already satisfied: onnxruntime>=1.14.1 in c:\\users\\think\\anaconda3\\lib\\site-packages (from chromadb) (1.20.1)\n",
      "Requirement already satisfied: opentelemetry-api>=1.2.0 in c:\\users\\think\\anaconda3\\lib\\site-packages (from chromadb) (1.29.0)\n",
      "Requirement already satisfied: opentelemetry-exporter-otlp-proto-grpc>=1.2.0 in c:\\users\\think\\anaconda3\\lib\\site-packages (from chromadb) (1.29.0)\n",
      "Requirement already satisfied: opentelemetry-instrumentation-fastapi>=0.41b0 in c:\\users\\think\\anaconda3\\lib\\site-packages (from chromadb) (0.50b0)\n",
      "Requirement already satisfied: opentelemetry-sdk>=1.2.0 in c:\\users\\think\\anaconda3\\lib\\site-packages (from chromadb) (1.29.0)\n",
      "Requirement already satisfied: tokenizers>=0.13.2 in c:\\users\\think\\anaconda3\\lib\\site-packages (from chromadb) (0.21.0)\n",
      "Requirement already satisfied: pypika>=0.48.9 in c:\\users\\think\\anaconda3\\lib\\site-packages (from chromadb) (0.48.9)\n",
      "Requirement already satisfied: tqdm>=4.65.0 in c:\\users\\think\\anaconda3\\lib\\site-packages (from chromadb) (4.66.5)\n",
      "Requirement already satisfied: overrides>=7.3.1 in c:\\users\\think\\anaconda3\\lib\\site-packages (from chromadb) (7.4.0)\n",
      "Requirement already satisfied: importlib-resources in c:\\users\\think\\anaconda3\\lib\\site-packages (from chromadb) (6.5.2)\n",
      "Requirement already satisfied: grpcio>=1.58.0 in c:\\users\\think\\anaconda3\\lib\\site-packages (from chromadb) (1.67.1)\n",
      "Requirement already satisfied: bcrypt>=4.0.1 in c:\\users\\think\\anaconda3\\lib\\site-packages (from chromadb) (4.2.1)\n",
      "Requirement already satisfied: typer>=0.9.0 in c:\\users\\think\\anaconda3\\lib\\site-packages (from chromadb) (0.15.1)\n",
      "Requirement already satisfied: kubernetes>=28.1.0 in c:\\users\\think\\anaconda3\\lib\\site-packages (from chromadb) (31.0.0)\n",
      "Requirement already satisfied: tenacity>=8.2.3 in c:\\users\\think\\anaconda3\\lib\\site-packages (from chromadb) (8.2.3)\n",
      "Requirement already satisfied: pyyaml>=6.0.0 in c:\\users\\think\\anaconda3\\lib\\site-packages (from chromadb) (6.0.1)\n",
      "Requirement already satisfied: mmh3>=4.0.1 in c:\\users\\think\\anaconda3\\lib\\site-packages (from chromadb) (5.0.1)\n",
      "Requirement already satisfied: orjson>=3.9.12 in c:\\users\\think\\anaconda3\\lib\\site-packages (from chromadb) (3.10.11)\n",
      "Requirement already satisfied: httpx>=0.27.0 in c:\\users\\think\\anaconda3\\lib\\site-packages (from chromadb) (0.28.1)\n",
      "Requirement already satisfied: rich>=10.11.0 in c:\\users\\think\\anaconda3\\lib\\site-packages (from chromadb) (13.7.1)\n",
      "Requirement already satisfied: jsonschema>=4.19.0 in c:\\users\\think\\anaconda3\\lib\\site-packages (from chromadb) (4.23.0)\n",
      "Requirement already satisfied: starlette<0.46.0,>=0.40.0 in c:\\users\\think\\anaconda3\\lib\\site-packages (from fastapi==0.115.9->chromadb) (0.41.3)\n",
      "Requirement already satisfied: packaging>=19.1 in c:\\users\\think\\anaconda3\\lib\\site-packages (from build>=1.0.3->chromadb) (24.2)\n",
      "Requirement already satisfied: pyproject_hooks in c:\\users\\think\\anaconda3\\lib\\site-packages (from build>=1.0.3->chromadb) (1.2.0)\n",
      "Requirement already satisfied: colorama in c:\\users\\think\\anaconda3\\lib\\site-packages (from build>=1.0.3->chromadb) (0.4.6)\n",
      "Requirement already satisfied: anyio in c:\\users\\think\\anaconda3\\lib\\site-packages (from httpx>=0.27.0->chromadb) (4.9.0)\n",
      "Requirement already satisfied: certifi in c:\\users\\think\\anaconda3\\lib\\site-packages (from httpx>=0.27.0->chromadb) (2024.8.30)\n",
      "Requirement already satisfied: httpcore==1.* in c:\\users\\think\\anaconda3\\lib\\site-packages (from httpx>=0.27.0->chromadb) (1.0.2)\n",
      "Requirement already satisfied: idna in c:\\users\\think\\anaconda3\\lib\\site-packages (from httpx>=0.27.0->chromadb) (3.7)\n",
      "Requirement already satisfied: h11<0.15,>=0.13 in c:\\users\\think\\anaconda3\\lib\\site-packages (from httpcore==1.*->httpx>=0.27.0->chromadb) (0.14.0)\n",
      "Requirement already satisfied: attrs>=22.2.0 in c:\\users\\think\\anaconda3\\lib\\site-packages (from jsonschema>=4.19.0->chromadb) (25.3.0)\n",
      "Requirement already satisfied: jsonschema-specifications>=2023.03.6 in c:\\users\\think\\anaconda3\\lib\\site-packages (from jsonschema>=4.19.0->chromadb) (2023.7.1)\n",
      "Requirement already satisfied: referencing>=0.28.4 in c:\\users\\think\\anaconda3\\lib\\site-packages (from jsonschema>=4.19.0->chromadb) (0.30.2)\n",
      "Requirement already satisfied: rpds-py>=0.7.1 in c:\\users\\think\\anaconda3\\lib\\site-packages (from jsonschema>=4.19.0->chromadb) (0.10.6)\n",
      "Requirement already satisfied: six>=1.9.0 in c:\\users\\think\\anaconda3\\lib\\site-packages (from kubernetes>=28.1.0->chromadb) (1.16.0)\n",
      "Requirement already satisfied: python-dateutil>=2.5.3 in c:\\users\\think\\anaconda3\\lib\\site-packages (from kubernetes>=28.1.0->chromadb) (2.9.0.post0)\n",
      "Requirement already satisfied: google-auth>=1.0.1 in c:\\users\\think\\anaconda3\\lib\\site-packages (from kubernetes>=28.1.0->chromadb) (2.36.0)\n",
      "Requirement already satisfied: websocket-client!=0.40.0,!=0.41.*,!=0.42.*,>=0.32.0 in c:\\users\\think\\anaconda3\\lib\\site-packages (from kubernetes>=28.1.0->chromadb) (1.8.0)\n",
      "Requirement already satisfied: requests in c:\\users\\think\\anaconda3\\lib\\site-packages (from kubernetes>=28.1.0->chromadb) (2.32.3)\n",
      "Requirement already satisfied: requests-oauthlib in c:\\users\\think\\anaconda3\\lib\\site-packages (from kubernetes>=28.1.0->chromadb) (2.0.0)\n",
      "Requirement already satisfied: oauthlib>=3.2.2 in c:\\users\\think\\anaconda3\\lib\\site-packages (from kubernetes>=28.1.0->chromadb) (3.2.2)\n",
      "Requirement already satisfied: urllib3>=1.24.2 in c:\\users\\think\\anaconda3\\lib\\site-packages (from kubernetes>=28.1.0->chromadb) (2.2.3)\n",
      "Requirement already satisfied: durationpy>=0.7 in c:\\users\\think\\anaconda3\\lib\\site-packages (from kubernetes>=28.1.0->chromadb) (0.9)\n",
      "Requirement already satisfied: coloredlogs in c:\\users\\think\\anaconda3\\lib\\site-packages (from onnxruntime>=1.14.1->chromadb) (15.0.1)\n",
      "Requirement already satisfied: flatbuffers in c:\\users\\think\\anaconda3\\lib\\site-packages (from onnxruntime>=1.14.1->chromadb) (24.12.23)\n",
      "Requirement already satisfied: protobuf in c:\\users\\think\\anaconda3\\lib\\site-packages (from onnxruntime>=1.14.1->chromadb) (5.29.3)\n",
      "Requirement already satisfied: sympy in c:\\users\\think\\anaconda3\\lib\\site-packages (from onnxruntime>=1.14.1->chromadb) (1.13.1)\n",
      "Requirement already satisfied: deprecated>=1.2.6 in c:\\users\\think\\anaconda3\\lib\\site-packages (from opentelemetry-api>=1.2.0->chromadb) (1.2.15)\n",
      "Requirement already satisfied: importlib-metadata<=8.5.0,>=6.0 in c:\\users\\think\\anaconda3\\lib\\site-packages (from opentelemetry-api>=1.2.0->chromadb) (7.0.1)\n",
      "Requirement already satisfied: googleapis-common-protos~=1.52 in c:\\users\\think\\anaconda3\\lib\\site-packages (from opentelemetry-exporter-otlp-proto-grpc>=1.2.0->chromadb) (1.66.0)\n",
      "Requirement already satisfied: opentelemetry-exporter-otlp-proto-common==1.29.0 in c:\\users\\think\\anaconda3\\lib\\site-packages (from opentelemetry-exporter-otlp-proto-grpc>=1.2.0->chromadb) (1.29.0)\n",
      "Requirement already satisfied: opentelemetry-proto==1.29.0 in c:\\users\\think\\anaconda3\\lib\\site-packages (from opentelemetry-exporter-otlp-proto-grpc>=1.2.0->chromadb) (1.29.0)\n",
      "Requirement already satisfied: opentelemetry-instrumentation-asgi==0.50b0 in c:\\users\\think\\anaconda3\\lib\\site-packages (from opentelemetry-instrumentation-fastapi>=0.41b0->chromadb) (0.50b0)\n",
      "Requirement already satisfied: opentelemetry-instrumentation==0.50b0 in c:\\users\\think\\anaconda3\\lib\\site-packages (from opentelemetry-instrumentation-fastapi>=0.41b0->chromadb) (0.50b0)\n",
      "Requirement already satisfied: opentelemetry-semantic-conventions==0.50b0 in c:\\users\\think\\anaconda3\\lib\\site-packages (from opentelemetry-instrumentation-fastapi>=0.41b0->chromadb) (0.50b0)\n",
      "Requirement already satisfied: opentelemetry-util-http==0.50b0 in c:\\users\\think\\anaconda3\\lib\\site-packages (from opentelemetry-instrumentation-fastapi>=0.41b0->chromadb) (0.50b0)\n",
      "Requirement already satisfied: wrapt<2.0.0,>=1.0.0 in c:\\users\\think\\anaconda3\\lib\\site-packages (from opentelemetry-instrumentation==0.50b0->opentelemetry-instrumentation-fastapi>=0.41b0->chromadb) (1.14.1)\n",
      "Requirement already satisfied: asgiref~=3.0 in c:\\users\\think\\anaconda3\\lib\\site-packages (from opentelemetry-instrumentation-asgi==0.50b0->opentelemetry-instrumentation-fastapi>=0.41b0->chromadb) (3.8.1)\n",
      "Requirement already satisfied: monotonic>=1.5 in c:\\users\\think\\anaconda3\\lib\\site-packages (from posthog>=2.4.0->chromadb) (1.6)\n",
      "Requirement already satisfied: backoff>=1.10.0 in c:\\users\\think\\anaconda3\\lib\\site-packages (from posthog>=2.4.0->chromadb) (2.2.1)\n",
      "Requirement already satisfied: annotated-types>=0.6.0 in c:\\users\\think\\anaconda3\\lib\\site-packages (from pydantic>=1.9->chromadb) (0.6.0)\n",
      "Requirement already satisfied: pydantic-core==2.33.2 in c:\\users\\think\\anaconda3\\lib\\site-packages (from pydantic>=1.9->chromadb) (2.33.2)\n",
      "Requirement already satisfied: typing-inspection>=0.4.0 in c:\\users\\think\\anaconda3\\lib\\site-packages (from pydantic>=1.9->chromadb) (0.4.1)\n",
      "Requirement already satisfied: markdown-it-py>=2.2.0 in c:\\users\\think\\anaconda3\\lib\\site-packages (from rich>=10.11.0->chromadb) (2.2.0)\n",
      "Requirement already satisfied: pygments<3.0.0,>=2.13.0 in c:\\users\\think\\anaconda3\\lib\\site-packages (from rich>=10.11.0->chromadb) (2.15.1)\n",
      "Requirement already satisfied: huggingface-hub<1.0,>=0.16.4 in c:\\users\\think\\anaconda3\\lib\\site-packages (from tokenizers>=0.13.2->chromadb) (0.26.2)\n",
      "Requirement already satisfied: click>=8.0.0 in c:\\users\\think\\anaconda3\\lib\\site-packages (from typer>=0.9.0->chromadb) (8.1.7)\n",
      "Requirement already satisfied: shellingham>=1.3.0 in c:\\users\\think\\anaconda3\\lib\\site-packages (from typer>=0.9.0->chromadb) (1.5.4)\n",
      "Requirement already satisfied: httptools>=0.6.3 in c:\\users\\think\\anaconda3\\lib\\site-packages (from uvicorn[standard]>=0.18.3->chromadb) (0.6.4)\n",
      "Requirement already satisfied: python-dotenv>=0.13 in c:\\users\\think\\anaconda3\\lib\\site-packages (from uvicorn[standard]>=0.18.3->chromadb) (1.1.0)\n",
      "Requirement already satisfied: watchfiles>=0.13 in c:\\users\\think\\anaconda3\\lib\\site-packages (from uvicorn[standard]>=0.18.3->chromadb) (0.20.0)\n",
      "Requirement already satisfied: websockets>=10.4 in c:\\users\\think\\anaconda3\\lib\\site-packages (from uvicorn[standard]>=0.18.3->chromadb) (14.2)\n",
      "Requirement already satisfied: cachetools<6.0,>=2.0.0 in c:\\users\\think\\anaconda3\\lib\\site-packages (from google-auth>=1.0.1->kubernetes>=28.1.0->chromadb) (5.3.3)\n",
      "Requirement already satisfied: pyasn1-modules>=0.2.1 in c:\\users\\think\\anaconda3\\lib\\site-packages (from google-auth>=1.0.1->kubernetes>=28.1.0->chromadb) (0.2.8)\n",
      "Requirement already satisfied: rsa<5,>=3.1.4 in c:\\users\\think\\anaconda3\\lib\\site-packages (from google-auth>=1.0.1->kubernetes>=28.1.0->chromadb) (4.9)\n",
      "Requirement already satisfied: filelock in c:\\users\\think\\anaconda3\\lib\\site-packages (from huggingface-hub<1.0,>=0.16.4->tokenizers>=0.13.2->chromadb) (3.13.1)\n",
      "Requirement already satisfied: fsspec>=2023.5.0 in c:\\users\\think\\anaconda3\\lib\\site-packages (from huggingface-hub<1.0,>=0.16.4->tokenizers>=0.13.2->chromadb) (2024.6.1)\n",
      "Requirement already satisfied: zipp>=0.5 in c:\\users\\think\\anaconda3\\lib\\site-packages (from importlib-metadata<=8.5.0,>=6.0->opentelemetry-api>=1.2.0->chromadb) (3.17.0)\n",
      "Requirement already satisfied: mdurl~=0.1 in c:\\users\\think\\anaconda3\\lib\\site-packages (from markdown-it-py>=2.2.0->rich>=10.11.0->chromadb) (0.1.0)\n",
      "Requirement already satisfied: charset-normalizer<4,>=2 in c:\\users\\think\\anaconda3\\lib\\site-packages (from requests->kubernetes>=28.1.0->chromadb) (3.3.2)\n",
      "Requirement already satisfied: sniffio>=1.1 in c:\\users\\think\\anaconda3\\lib\\site-packages (from anyio->httpx>=0.27.0->chromadb) (1.3.0)\n",
      "Requirement already satisfied: humanfriendly>=9.1 in c:\\users\\think\\anaconda3\\lib\\site-packages (from coloredlogs->onnxruntime>=1.14.1->chromadb) (10.0)\n",
      "Requirement already satisfied: mpmath<1.4,>=1.1.0 in c:\\users\\think\\anaconda3\\lib\\site-packages (from sympy->onnxruntime>=1.14.1->chromadb) (1.3.0)\n",
      "Requirement already satisfied: pyreadline3 in c:\\users\\think\\anaconda3\\lib\\site-packages (from humanfriendly>=9.1->coloredlogs->onnxruntime>=1.14.1->chromadb) (3.5.4)\n",
      "Requirement already satisfied: pyasn1<0.5.0,>=0.4.6 in c:\\users\\think\\anaconda3\\lib\\site-packages (from pyasn1-modules>=0.2.1->google-auth>=1.0.1->kubernetes>=28.1.0->chromadb) (0.4.8)\n"
     ]
    }
   ],
   "source": [
    "! pip install chromadb pypdf ollama"
   ]
  },
  {
   "cell_type": "code",
   "execution_count": 4,
   "id": "468b82a8",
   "metadata": {},
   "outputs": [
    {
     "name": "stdout",
     "output_type": "stream",
     "text": [
      "Collecting helper-utils\n",
      "  Downloading helper_utils-0.0.8.tar.gz (5.7 kB)\n",
      "  Preparing metadata (setup.py): started\n",
      "  Preparing metadata (setup.py): finished with status 'done'\n",
      "Requirement already satisfied: numpy in c:\\users\\think\\anaconda3\\lib\\site-packages (from helper-utils) (1.26.4)\n",
      "Requirement already satisfied: pandas in c:\\users\\think\\anaconda3\\lib\\site-packages (from helper-utils) (2.2.2)\n",
      "Requirement already satisfied: python-dateutil>=2.8.2 in c:\\users\\think\\anaconda3\\lib\\site-packages (from pandas->helper-utils) (2.9.0.post0)\n",
      "Requirement already satisfied: pytz>=2020.1 in c:\\users\\think\\anaconda3\\lib\\site-packages (from pandas->helper-utils) (2024.1)\n",
      "Requirement already satisfied: tzdata>=2022.7 in c:\\users\\think\\anaconda3\\lib\\site-packages (from pandas->helper-utils) (2023.3)\n",
      "Requirement already satisfied: six>=1.5 in c:\\users\\think\\anaconda3\\lib\\site-packages (from python-dateutil>=2.8.2->pandas->helper-utils) (1.16.0)\n",
      "Building wheels for collected packages: helper-utils\n",
      "  Building wheel for helper-utils (setup.py): started\n",
      "  Building wheel for helper-utils (setup.py): finished with status 'done'\n",
      "  Created wheel for helper-utils: filename=helper_utils-0.0.8-py3-none-any.whl size=6087 sha256=a88f0e1aa7ea2189ab7f6c9a5270c5f8b6a334434e7786f8c3ab390e10e0886a\n",
      "  Stored in directory: c:\\users\\think\\appdata\\local\\pip\\cache\\wheels\\0d\\c9\\0b\\294fee31b3dc5173031699ea99432767ec851eef54c1982dd0\n",
      "Successfully built helper-utils\n",
      "Installing collected packages: helper-utils\n",
      "Successfully installed helper-utils-0.0.8\n"
     ]
    }
   ],
   "source": [
    "! pip install helper-utils"
   ]
  },
  {
   "cell_type": "code",
   "execution_count": 6,
   "id": "b02bb56d",
   "metadata": {},
   "outputs": [],
   "source": [
    "from pypdf import PdfReader\n",
    "import os\n",
    "from dotenv import load_dotenv"
   ]
  },
  {
   "cell_type": "code",
   "execution_count": 7,
   "id": "f0491e5d",
   "metadata": {},
   "outputs": [],
   "source": [
    "# extract the Text from pdfs \n",
    "# using pyPdf library\n",
    "def extract_text_from_pdfs(pdf_folder):\n",
    "    pdf_texts= []\n",
    "    for filename in os.listdir(pdf_folder):\n",
    "        pdf_path= os.path.join(pdf_folder, filename)\n",
    "        if filename.endswith('.pdf'):\n",
    "            reader= PdfReader(pdf_path)\n",
    "            text=''\n",
    "            for page in reader.pages:\n",
    "                text+=page.extract_text().strip()\n",
    "            pdf_texts.append(text.strip()) # remove training whitespaces\n",
    "    return pdf_texts\n",
    "        "
   ]
  },
  {
   "cell_type": "code",
   "execution_count": 8,
   "id": "021f7117",
   "metadata": {},
   "outputs": [],
   "source": [
    "extracted_text= extract_text_from_pdfs('pdfs')"
   ]
  },
  {
   "cell_type": "markdown",
   "id": "92fd8423",
   "metadata": {},
   "source": [
    "Recursive Text Splitter: \n",
    "* The default list is [\"\\n\\n\", \"\\n\", \" \", \"\"]. It seperates on this list.\n",
    "* How the text is split: `by list of characters.`\n",
    "* How the chunk size is measured: `by number of characters.`\n",
    "* To use this you first create a langchain document of your pdf/docx.\n",
    "* You can also change or update your seperator list.\n",
    "```\n",
    "text_splitter = RecursiveCharacterTextSplitter(\n",
    "    separators=[\n",
    "        \"\\n\\n\",\n",
    "        \"\\n\",\n",
    "        \" \",\n",
    "        \".\",\n",
    "        \",\",\n",
    "        \"\\u200b\",  # Zero-width space\n",
    "        \"\\uff0c\",  # Fullwidth comma\n",
    "        \"\\u3001\",  # Ideographic comma\n",
    "        \"\\uff0e\",  # Fullwidth full stop\n",
    "        \"\\u3002\",  # Ideographic full stop\n",
    "        \"\",\n",
    "    ],\n",
    "    # Existing args\n",
    ")\n",
    "```\n",
    "* For more reference visit: https://python.langchain.com/docs/how_to/recursive_text_splitter/"
   ]
  },
  {
   "cell_type": "code",
   "execution_count": 9,
   "id": "279097e8",
   "metadata": {},
   "outputs": [],
   "source": [
    "extracted_text= '\\n'.join(extracted_text)"
   ]
  },
  {
   "cell_type": "markdown",
   "id": "0a944189",
   "metadata": {},
   "source": [
    "| Feature / Question                                 | `RecursiveCharacterTextSplitter`                                  | `SentenceTransformersTokenTextSplitter`                       |\n",
    "| -------------------------------------------------- | ----------------------------------------------------------------- | ------------------------------------------------------------- |\n",
    "| **Splits by**                                      | Number of **characters**                                          | Number of **tokens**                                          |\n",
    "| **Tokenizer-aware?**                               | ❌ No                                                              | ✅ Yes (uses `sentence-transformers` tokenizers)               |\n",
    "| **Preserves sentence structure?**                  | ❌ May break sentences                                             | ✅ Tries to preserve full sentences                            |\n",
    "| **Best use case**                                  | Fast, simple chunking; pre-token split                            | High-quality RAG, embedding models (like MiniLM, BGE, OpenAI) |\n",
    "| **When to use alone**                              | On small texts, for quick prototyping                             | When texts are small or already cleaned                       |\n",
    "| **When to combine both**                           | For huge/unstructured docs → rough cut (char) → fine cut (tokens) | After initial char-splitting for large inputs                 |\n",
    "| **Required to use both?**                          | ❌ No, optional                                                    | ❌ No, optional                                                |\n",
    "| **Does it handle token limits (e.g., 512, 1000)?** | ❌ No                                                              | ✅ Yes                                                         |\n",
    "| **Performance on large files**                     | ⚠️ Slower on huge files if not split beforehand                   | ✅ More efficient when pre-split                               |\n"
   ]
  },
  {
   "cell_type": "markdown",
   "id": "78409a7c",
   "metadata": {},
   "source": [
    "| Situation                        | What to Use                                    |\n",
    "| -------------------------------- | ---------------------------------------------- |\n",
    "| Small/medium PDFs or clean text  | ✅ Only `SentenceTransformersTokenTextSplitter` |\n",
    "| Large, messy, or scanned PDFs    | ✅ First character split, then token split      |\n",
    "| Prioritizing speed over accuracy | ✅ Only character splitter                      |\n",
    "| High accuracy, token-aware RAG   | ✅ Only token splitter or both if needed        |\n"
   ]
  },
  {
   "cell_type": "markdown",
   "id": "be86c42f",
   "metadata": {},
   "source": [
    "## Step-by-Step Example\n",
    "Let’s take a sample paragraph:\n",
    "```\n",
    "paragraph = \"\"\"\n",
    "Artificial intelligence is transforming industries. From healthcare to finance, the applications are endless.\n",
    "However, managing large documents and ensuring relevant retrieval remains a challenge.\n",
    "This is where retrieval augmented generation (RAG) comes into play.\n",
    "\"\"\"\n",
    "```\n",
    "### Character Split (RecursiveCharacterTextSplitter):\n",
    "\n",
    "* Roughly splits based on every N characters\n",
    "* You might get something like:\n",
    "```\n",
    "[\"Artificial intelligence is transforming industries. From healthcare to finance, the applications are end\",\n",
    "\"lications are endless. However, managing large documents and ensuring relevant retrieval remains a chall\",\n",
    "\"llenge. This is where retrieval augmented generation (RAG) comes into play.\"]\n",
    "```\n",
    "\n",
    "👎 Issues:\n",
    "\n",
    "* Sentences are broken mid-way\n",
    "* Not token/model aware\n",
    "\n",
    "### Token Split (SentenceTransformersTokenTextSplitter):\n",
    "```\n",
    "# More intelligent splits:\n",
    "[\"Artificial intelligence is transforming industries.\",\n",
    "\"From healthcare to finance, the applications are endless.\",\n",
    "\"However, managing large documents and ensuring relevant retrieval remains a challenge.\",\n",
    "\"This is where retrieval augmented generation (RAG) comes into play.\"]\n",
    "```\n",
    "\n",
    "👍 Benefits:\n",
    "\n",
    "* Each chunk is semantically meaningful.\n",
    "* Aligns with transformer token limits (important for embeddings & prompts).\n",
    "* Less hallucination risk during retrieval or summarization."
   ]
  },
  {
   "cell_type": "code",
   "execution_count": 10,
   "id": "5cadc1a7",
   "metadata": {},
   "outputs": [],
   "source": [
    "# split the texts into chunks.\n",
    "# using langchain\n",
    "\n",
    "from langchain.text_splitter import (\n",
    "    RecursiveCharacterTextSplitter,\n",
    "    SentenceTransformersTokenTextSplitter)\n",
    "\n",
    "# the RecursiveCharacterTextSplitter expects a string.\n",
    "def split_text_into_chunks(extracted_text):\n",
    "    character_text_splitter=RecursiveCharacterTextSplitter(\n",
    "        chunk_size=1000, \n",
    "        chunk_overlap=20, \n",
    "        length_function=len # Function determining the chunk size\n",
    "    )\n",
    "    character_split_texts= character_text_splitter.split_text(extracted_text)\n",
    "    return character_split_texts  \n"
   ]
  },
  {
   "cell_type": "code",
   "execution_count": 11,
   "id": "c76aba52",
   "metadata": {},
   "outputs": [],
   "source": [
    "character_by_character_split_texts= split_text_into_chunks(extracted_text)"
   ]
  },
  {
   "cell_type": "code",
   "execution_count": 12,
   "id": "81103414",
   "metadata": {},
   "outputs": [
    {
     "data": {
      "text/plain": [
       "302"
      ]
     },
     "execution_count": 12,
     "metadata": {},
     "output_type": "execute_result"
    }
   ],
   "source": [
    "len(character_by_character_split_texts)"
   ]
  },
  {
   "cell_type": "code",
   "execution_count": 13,
   "id": "0e0315c4",
   "metadata": {},
   "outputs": [
    {
     "data": {
      "text/plain": [
       "['1 \\nDear shareholders, colleagues, customers, and partners,  \\nWe are living through a time of historic challenge and opportunity. As I write this, the world faces ongoing economic, social, \\nand geopolitical volatility. At the same time, we have entered a new age of AI that will fundamentally transform productivity \\nfor every individual, organization, and industry on earth, and help us address some of our most pressing challenges.  \\nThis next generation of AI will reshape every software category and every business, including our own. Forty -eight years \\nafter its founding, Microsoft remains a consequential company because time and time again —from PC/Server, to \\nWeb/Internet, to Cloud/Mobile—we have adapted to technological paradigm shifts. Today, we are doing so once again, as \\nwe lead this new era.  \\nAmid this transformation, our mission to empower every person and every organization on the planet to achieve',\n",
       " 'more remains constant. As a company, we believe we can be the democratizing force for this new generation of technology \\nand the opportunity it will help unlock for every country, community, and individual, while mitigating its risks.  \\nHere are just a few examples of how we are already doing this:  \\n• Leading electronic health records vendor Epic is addressing some of the biggest challenges facing the \\nhealthcare industry today—including physician burnout—by deploying a wide range of copilot solutions built on \\nAzure OpenAI Service and Dragon Ambient eXperience Copilot.  \\n• Mercado Libre is reducing the time its developers spend writing code by more than 50  percent with GitHub \\nCopilot, as the company works to democratize e-commerce across Latin America.  \\n• Mercedes-Benz is making its in -car voice assistant more intuitive for hundreds of thousands of drivers using \\nChatGPT via the Azure OpenAI Service.']"
      ]
     },
     "execution_count": 13,
     "metadata": {},
     "output_type": "execute_result"
    }
   ],
   "source": [
    "character_by_character_split_texts[0:2]"
   ]
  },
  {
   "cell_type": "code",
   "execution_count": 14,
   "id": "e8f38507",
   "metadata": {},
   "outputs": [],
   "source": [
    "def split_into_tokens(character_by_character_split_texts):\n",
    "    \"\"\"Splits the text into tokens which the LLMs can understand.\n",
    "   Like subwords.\"\"\"\n",
    "    token_split_text=[]\n",
    "    # define our splitter\n",
    "    token_splitter= SentenceTransformersTokenTextSplitter(\n",
    "    tokens_per_chunk=250, # for llm's token limit account\n",
    "    chunk_overlap=20\n",
    "    )\n",
    "    for text in character_by_character_split_texts:\n",
    "        token_split_text.extend(token_splitter.split_text(text))\n",
    "        \n",
    "    return token_split_text"
   ]
  },
  {
   "cell_type": "code",
   "execution_count": 15,
   "id": "1590cdba",
   "metadata": {},
   "outputs": [],
   "source": [
    "# split the text into token chunks\n",
    "token_split_texts= split_into_tokens(character_by_character_split_texts)"
   ]
  },
  {
   "cell_type": "code",
   "execution_count": 16,
   "id": "bac932da",
   "metadata": {},
   "outputs": [
    {
     "data": {
      "text/plain": [
       "311"
      ]
     },
     "execution_count": 16,
     "metadata": {},
     "output_type": "execute_result"
    }
   ],
   "source": [
    "len(token_split_texts)\n",
    "# this is more than the character split texts\n",
    "# because the token split is more granular."
   ]
  },
  {
   "cell_type": "code",
   "execution_count": 17,
   "id": "198cc9dd",
   "metadata": {},
   "outputs": [],
   "source": [
    "# lets build our embedding model and push in vector db\n",
    "from sentence_transformers import SentenceTransformer\n",
    "def build_embedding_model():\n",
    "    model_name= 'sentence-transformers/all-MiniLM-L6-v2'\n",
    "    model= SentenceTransformer(model_name)\n",
    "    return model"
   ]
  },
  {
   "cell_type": "markdown",
   "id": "bcce4219",
   "metadata": {},
   "source": [
    "If token_split_texts is a list like:\n",
    "\n",
    "`token_split_texts = [\"chunk 1 text...\", \"chunk 2 text...\", \"chunk 3 text...\"]`\n",
    "\n",
    "Then calling .encode(token_split_texts) will return:\n",
    "\n",
    "```\n",
    "[\n",
    "  [0.123, 0.456, ...],  # embedding for chunk 1\n",
    "  [0.789, 0.321, ...],  # embedding for chunk 2\n",
    "  ...\n",
    "]\n",
    "```"
   ]
  },
  {
   "cell_type": "markdown",
   "id": "04bc332e",
   "metadata": {},
   "source": [
    "🔍 How Many Rows Are Created in ChromaDB?\n",
    "Answer:\n",
    "➡️ One row per chunk, not per full document.\n",
    "\n",
    "So if your token_split_texts contains 53 chunks, you'll store 53 rows in ChromaDB, each with:\n",
    "\n",
    "* A chunk of text\n",
    "* Its embedding\n",
    "* A unique ID\n",
    "* Metadata (like source)\n",
    "\n",
    "🧭 ChromaDB Structure (Diagram)\n",
    "| ID   | Document (Chunk Text)       | Embedding    | Metadata                     |\n",
    "|------|-----------------------------|--------------|------------------------------|\n",
    "| \"0\"  | \"Artificial intell...\"      | [0.12, ...]  | {\"source\": \"microsoft_pdf\"}   |\n",
    "| \"1\"  | \"From healthcare...\"        | [0.34, ...]  | {\"source\": \"microsoft_pdf\"}   |\n",
    "| \"2\"  | \"However, managing...\"      | [0.98, ...]  | {\"source\": \"microsoft_pdf\"}   |\n",
    "| ...  | ...                         | ...          | ...                           |\n",
    "Each row = 1 chunk = 1 embedding = 1 retrievable item in RAG"
   ]
  },
  {
   "cell_type": "code",
   "execution_count": 18,
   "id": "a67b73a9",
   "metadata": {},
   "outputs": [],
   "source": [
    "# build and store embeddings\n",
    "import chromadb\n",
    "def build_embedding_and_store_in_vector_db(token_split_texts):\n",
    "    # get the embedding model\n",
    "    embedding_model= build_embedding_model()\n",
    "\n",
    "    # create the chroma Client\n",
    "    client=chromadb.PersistentClient(\n",
    "        path=\"microsoft_pdf_embeddings\", # folder for db\n",
    "    )\n",
    "\n",
    "    # create the collection\n",
    "    collection= client.get_or_create_collection(\n",
    "        name=\"microsoft_collection\",     # name of the collection\n",
    "    )\n",
    "\n",
    "    # get the embedding of each chunk\n",
    "    embeddings = embedding_model.encode(token_split_texts)\n",
    "    \n",
    "    # add the embeddings to the collection\n",
    "    collection.add(\n",
    "        documents= token_split_texts,  # the texts to be added\n",
    "        ids= [str(i) for i in range (len(token_split_texts))],  # unique ids for each text\n",
    "        embeddings= embeddings,  # the embeddings of the texts\n",
    "        metadatas= [{\"source\": \"microsoft_pdf\"}] * len(token_split_texts)  # metadata for each text\n",
    "    )\n",
    "    return collection"
   ]
  },
  {
   "cell_type": "code",
   "execution_count": 19,
   "id": "81f52839",
   "metadata": {},
   "outputs": [],
   "source": [
    "collection= build_embedding_and_store_in_vector_db(token_split_texts)"
   ]
  },
  {
   "cell_type": "code",
   "execution_count": 20,
   "id": "dfaea653",
   "metadata": {},
   "outputs": [],
   "source": [
    "count= collection.count()"
   ]
  },
  {
   "cell_type": "code",
   "execution_count": 42,
   "id": "e4a3af72",
   "metadata": {},
   "outputs": [
    {
     "data": {
      "text/plain": [
       "311"
      ]
     },
     "execution_count": 42,
     "metadata": {},
     "output_type": "execute_result"
    }
   ],
   "source": [
    "count"
   ]
  },
  {
   "cell_type": "code",
   "execution_count": 21,
   "id": "d5369850",
   "metadata": {},
   "outputs": [],
   "source": [
    "query=\"What was the total revenue for the year?\""
   ]
  },
  {
   "cell_type": "markdown",
   "id": "fde64beb",
   "metadata": {},
   "source": [
    "### Hypothetical Document Embeddings.\n",
    "* Ask an LLM to hallucinate over a query.\n",
    "* Take that query + hallucinated answer and get relevant texts from the collection.\n",
    "* You can then feed this entire thing into the llm to give you a perfect response. [OPTIONAL]"
   ]
  },
  {
   "cell_type": "code",
   "execution_count": 22,
   "id": "06ab4907",
   "metadata": {},
   "outputs": [
    {
     "name": "stdout",
     "output_type": "stream",
     "text": [
      "Requirement already satisfied: ollama in c:\\users\\think\\anaconda3\\lib\\site-packages (0.5.1)\n",
      "Requirement already satisfied: httpx>=0.27 in c:\\users\\think\\anaconda3\\lib\\site-packages (from ollama) (0.28.1)\n",
      "Requirement already satisfied: pydantic>=2.9 in c:\\users\\think\\anaconda3\\lib\\site-packages (from ollama) (2.11.5)\n",
      "Requirement already satisfied: anyio in c:\\users\\think\\anaconda3\\lib\\site-packages (from httpx>=0.27->ollama) (4.9.0)\n",
      "Requirement already satisfied: certifi in c:\\users\\think\\anaconda3\\lib\\site-packages (from httpx>=0.27->ollama) (2024.8.30)\n",
      "Requirement already satisfied: httpcore==1.* in c:\\users\\think\\anaconda3\\lib\\site-packages (from httpx>=0.27->ollama) (1.0.2)\n",
      "Requirement already satisfied: idna in c:\\users\\think\\anaconda3\\lib\\site-packages (from httpx>=0.27->ollama) (3.7)\n",
      "Requirement already satisfied: h11<0.15,>=0.13 in c:\\users\\think\\anaconda3\\lib\\site-packages (from httpcore==1.*->httpx>=0.27->ollama) (0.14.0)\n",
      "Requirement already satisfied: annotated-types>=0.6.0 in c:\\users\\think\\anaconda3\\lib\\site-packages (from pydantic>=2.9->ollama) (0.6.0)\n",
      "Requirement already satisfied: pydantic-core==2.33.2 in c:\\users\\think\\anaconda3\\lib\\site-packages (from pydantic>=2.9->ollama) (2.33.2)\n",
      "Requirement already satisfied: typing-extensions>=4.12.2 in c:\\users\\think\\anaconda3\\lib\\site-packages (from pydantic>=2.9->ollama) (4.13.2)\n",
      "Requirement already satisfied: typing-inspection>=0.4.0 in c:\\users\\think\\anaconda3\\lib\\site-packages (from pydantic>=2.9->ollama) (0.4.1)\n",
      "Requirement already satisfied: sniffio>=1.1 in c:\\users\\think\\anaconda3\\lib\\site-packages (from anyio->httpx>=0.27->ollama) (1.3.0)\n"
     ]
    }
   ],
   "source": [
    "! pip install ollama"
   ]
  },
  {
   "cell_type": "code",
   "execution_count": 23,
   "id": "9805af2a",
   "metadata": {},
   "outputs": [],
   "source": [
    "import ollama\n",
    "def get_hallucinated_query_response(query, model_name='gemma3n:latest'):\n",
    "\n",
    "    prompt = f\"\"\"\n",
    "    You are a helpful expert financial research assisttant.\n",
    "    Provide an example answer to the given question, that might be found in a document like an annual report.\n",
    "\n",
    "\n",
    "Question:\n",
    "{query}\n",
    "\n",
    "Answer:\"\"\"\n",
    "\n",
    "    try:\n",
    "        response = ollama.chat(\n",
    "            model=model_name,\n",
    "            messages=[\n",
    "                {\n",
    "                    'role': 'user',\n",
    "                    'content': prompt,\n",
    "                }\n",
    "            ],\n",
    "            options={\n",
    "                'temperature': 0.6, #[ closer to 0: Deterministic]\n",
    "                'max_tokens': 200,  # length of response\n",
    "                'top_p': 0.8, # Filters the model's vocabulary to the top probable tokens.\n",
    "            }                 # Range: 0.1 (strict) to 1.0 (broad).\n",
    "        )\n",
    "        return response['message']['content']\n",
    "    except Exception as e:\n",
    "        return f\"Error generating response: {str(e)}\"\n"
   ]
  },
  {
   "cell_type": "code",
   "execution_count": 24,
   "id": "a311c7d4",
   "metadata": {},
   "outputs": [],
   "source": [
    "llm_hallucinated_response= get_hallucinated_query_response(query)"
   ]
  },
  {
   "cell_type": "code",
   "execution_count": 25,
   "id": "f505340c",
   "metadata": {},
   "outputs": [
    {
     "data": {
      "text/plain": [
       "\"**Total revenue for the year ended December 31, 2023, was $125.7 million. This represents a 5.2% increase compared to $119.3 million in 2022. The growth was primarily driven by increased sales in our core product lines and expansion into the [mention a specific new market or product area, if applicable].**\\n\\n\\n\\n**Explanation of why this is a good answer for an annual report:**\\n\\n*   **Directly answers the question:** It clearly states the total revenue figure.\\n*   **Specifies the period:**  It includes the date the revenue covers (year ended December 31, 2023). This is crucial for clarity.\\n*   **Provides context:** It includes a year-over-year comparison, showing the growth or decline.  This is important for investors to understand the company's performance trend.\\n*   **Highlights key drivers:** It briefly explains *why* the revenue changed, pointing to specific factors like product line performance or market expansion. This adds valuable insight.\\n*   **Uses professional language:** The language is formal and appropriate for a financial document.\\n*   **Includes currency:** Specifies the currency ($).\\n\\n\\n\\n\""
      ]
     },
     "execution_count": 25,
     "metadata": {},
     "output_type": "execute_result"
    }
   ],
   "source": [
    "llm_hallucinated_response"
   ]
  },
  {
   "cell_type": "markdown",
   "id": "7842a9de",
   "metadata": {},
   "source": [
    "Next pass this joint answer: query+ response into the LLM"
   ]
  },
  {
   "cell_type": "code",
   "execution_count": 38,
   "id": "53b61963",
   "metadata": {},
   "outputs": [],
   "source": [
    "joint_query= f\"{query} {llm_hallucinated_response}\""
   ]
  },
  {
   "cell_type": "code",
   "execution_count": 46,
   "id": "3064228a",
   "metadata": {},
   "outputs": [],
   "source": [
    "def get_jointQuery_responses(llm_hallucinated_response,query, collection):\n",
    "    # in chroma you dont need to build the embedding for the query\n",
    "    joint_query = f\"{query} {llm_hallucinated_response}\"\n",
    "    \n",
    "    results= collection.query(\n",
    "        query_texts=[llm_hallucinated_response],  # the query text\n",
    "        n_results=5,\n",
    "        include=[\"documents\", \"embeddings\"]  # what to include in the results\n",
    "    )\n",
    "    return results"
   ]
  },
  {
   "cell_type": "code",
   "execution_count": 47,
   "id": "fae5731a",
   "metadata": {},
   "outputs": [],
   "source": [
    "joint_query_retrieval_answer= get_jointQuery_responses(llm_hallucinated_response, query, collection)"
   ]
  },
  {
   "cell_type": "code",
   "execution_count": 48,
   "id": "ef80f8f8",
   "metadata": {},
   "outputs": [
    {
     "data": {
      "text/plain": [
       "{'ids': [['136', '121', '120', '186', '127']],\n",
       " 'embeddings': [array([[ 0.00314847, -0.0564224 ,  0.03329218, ..., -0.11772352,\n",
       "          -0.0172887 ,  0.05966147],\n",
       "         [-0.02402674, -0.06448872, -0.01477951, ..., -0.06723693,\n",
       "          -0.00935987, -0.01644639],\n",
       "         [ 0.02184383, -0.03202321, -0.05222332, ..., -0.08729147,\n",
       "          -0.02081233, -0.00172158],\n",
       "         [ 0.00563767, -0.00375291,  0.03884898, ..., -0.0891605 ,\n",
       "          -0.04481906, -0.0374296 ],\n",
       "         [ 0.01764905, -0.03460781,  0.02327529, ..., -0.14289753,\n",
       "           0.02588371, -0.01848453]])],\n",
       " 'documents': [['fiscal year 2023 compared with fiscal year 2022 research and development expenses increased $ 2. 7 billion or 11 % driven by investments in cloud engineering and linkedin. sales and marketing ( in millions, except percentages ) 2023 2022 percentage change sales and marketing $ 22, 759 $ 21, 825 4 % as a percent of revenue 11 % 11 % 0ppt sales and marketing expenses include payroll, employee benefits, stock - based compensation expense, and other headcount - related expenses associated with sales and marketing personnel, and the costs of advertising, promotions, trade shows, seminars, and other programs. fiscal year 2023 compared with fiscal year 2022 sales and marketing expenses increased $ 934 million or 4 % driven by 3 points of growth from the nuance and xandr acquisitions and investments in commercial sales, offset in part by a decline in windows advertising. sales and marketing included a favorable foreign currency impact of 2 %.',\n",
       "   'in the first quarter of fiscal year 2023, we made updates to the presentation and method of calculation for certain metrics, most notably expanding our surface metric into a broader devices metric to incorporate additional revenue streams, along with other minor changes to align with how we manage our businesses. commercial our commercial business primarily consists of server products and cloud services, office commercial, windows commercial, the commercial portio n of linkedin, enterprise services, and dynamics. our commercial metrics allow management and investors to assess the overall health of our commercial business and include leading indicators of future performance. commercial remaining performance obligation commercial portion of revenue allocated to remaining performance obligations, which includes unearned revenue and amounts that will be invoiced and recognized as revenue in future periods',\n",
       "   'additional information on our reportable segments is contained in note 19 – segment information and geographic data of the notes to financial statements. metrics we use metrics in assessing the performance of our business and to make informed decisions regarding the allocation of resources. we disclose metrics to enable investors to evaluate progress against our ambitions, provide t ransparency into performance trends, and reflect the continued evolution of our products and services. our commercial and other business metrics are fundamentally connected based on how customers use our products and services. the metrics are disclosed in the md & a or the notes to financial statements. financial metrics are calculated based on financial results prepared in accordance with accounting principles generally accepted in the united states of america ( “ gaap ” ), and growth comparisons relate to the corresponding period of last fiscal year.',\n",
       "   'years to six years. this change in accounting estimate was effective beginning fiscal year 20 23. based on the carrying amount of server and network equipment included in property and equipment, net as of june 30, 2022, the effect of this change in estimate for fiscal year 2023 was an increase in operating income of $ 3. 7 billion and net income of $ 3. 0 billion, or $ 0. 40 per both basic and diluted share. foreign currencies assets and liabilities recorded in foreign currencies are translated at the exchange rate on the balance sheet date. revenue and expenses are translated at average rates of exchan ge prevailing during the year. translation adjustments resulting from this process are recorded to other comprehensive income. revenue product revenue and service and other revenue product revenue includes sales from operating systems, cross - device productivity and collaboration applications, server',\n",
       "   'statements for further discussion. refer to the non - gaap financial measures section below for a reconciliation of our financial results reported in accordance with gaap to non - gaap financial results. 31 fiscal year 2023 compared with fiscal year 2022 revenue increased $ 13. 6 billion or 7 % driven by growth in intelligent cloud and productivity and business processes, offset in part by a decline in more personal computing. intelligent c loud revenue increased driven by azure and other cloud services. productivity and business processes revenue increased driven by office 365 commercial and linkedin. more personal computing revenue decreased driven by windows and devices. cost of revenue increased $ 3. 2 billion or 5 % driven by growth in microsoft cloud, offset in part by the change in accounting estimate. gross margin increased $ 10. 4 billion or 8 % driven by growth in intelligent cloud and productivity and business processes']],\n",
       " 'uris': None,\n",
       " 'included': ['documents', 'embeddings'],\n",
       " 'data': None,\n",
       " 'metadatas': None,\n",
       " 'distances': None}"
      ]
     },
     "execution_count": 48,
     "metadata": {},
     "output_type": "execute_result"
    }
   ],
   "source": [
    "joint_query_retrieval_answer"
   ]
  },
  {
   "cell_type": "code",
   "execution_count": 29,
   "id": "20e12900",
   "metadata": {},
   "outputs": [
    {
     "name": "stdout",
     "output_type": "stream",
     "text": [
      "Requirement already satisfied: umap-learn in c:\\users\\think\\anaconda3\\lib\\site-packages (0.5.8)\n",
      "Requirement already satisfied: numpy>=1.23 in c:\\users\\think\\anaconda3\\lib\\site-packages (from umap-learn) (1.26.4)\n",
      "Requirement already satisfied: scipy>=1.3.1 in c:\\users\\think\\anaconda3\\lib\\site-packages (from umap-learn) (1.15.3)\n",
      "Requirement already satisfied: scikit-learn>=1.6 in c:\\users\\think\\anaconda3\\lib\\site-packages (from umap-learn) (1.7.0)\n",
      "Requirement already satisfied: numba>=0.51.2 in c:\\users\\think\\anaconda3\\lib\\site-packages (from umap-learn) (0.59.0)\n",
      "Requirement already satisfied: pynndescent>=0.5 in c:\\users\\think\\anaconda3\\lib\\site-packages (from umap-learn) (0.5.13)\n",
      "Requirement already satisfied: tqdm in c:\\users\\think\\anaconda3\\lib\\site-packages (from umap-learn) (4.66.5)\n",
      "Requirement already satisfied: llvmlite<0.43,>=0.42.0dev0 in c:\\users\\think\\anaconda3\\lib\\site-packages (from numba>=0.51.2->umap-learn) (0.42.0)\n",
      "Requirement already satisfied: joblib>=0.11 in c:\\users\\think\\anaconda3\\lib\\site-packages (from pynndescent>=0.5->umap-learn) (1.3.2)\n",
      "Requirement already satisfied: threadpoolctl>=3.1.0 in c:\\users\\think\\anaconda3\\lib\\site-packages (from scikit-learn>=1.6->umap-learn) (3.5.0)\n",
      "Requirement already satisfied: colorama in c:\\users\\think\\anaconda3\\lib\\site-packages (from tqdm->umap-learn) (0.4.6)\n"
     ]
    }
   ],
   "source": [
    "! pip install umap-learn"
   ]
  },
  {
   "cell_type": "markdown",
   "id": "75622f49",
   "metadata": {},
   "source": [
    "Now since the embeddings are high dimensionality vectors. And to visualize them we will be using UMAP."
   ]
  },
  {
   "cell_type": "code",
   "execution_count": 49,
   "id": "aeaf96f5",
   "metadata": {},
   "outputs": [],
   "source": [
    "embeddings = collection.get(include=[\"embeddings\"])[\"embeddings\"]"
   ]
  },
  {
   "cell_type": "code",
   "execution_count": 31,
   "id": "0bbf61ed",
   "metadata": {},
   "outputs": [
    {
     "data": {
      "text/plain": [
       "array([[-4.48643304e-02, -2.65765302e-02,  5.08678444e-02, ...,\n",
       "        -3.12455930e-02, -2.34171394e-02, -5.24429269e-02],\n",
       "       [-9.82296467e-02, -6.92604622e-03, -1.80437695e-03, ...,\n",
       "        -9.67107937e-02,  4.92179208e-02,  2.39097187e-03],\n",
       "       [-2.78818402e-02, -4.32330444e-02,  1.78645190e-03, ...,\n",
       "        -9.36608389e-02,  7.30100870e-02, -3.61429714e-02],\n",
       "       ...,\n",
       "       [-4.16572243e-02, -3.62805836e-02,  4.20238674e-02, ...,\n",
       "        -6.94045499e-02, -6.69304579e-02, -9.39283520e-03],\n",
       "       [-9.90765548e-05, -1.64379608e-02,  2.47890744e-02, ...,\n",
       "        -3.96450311e-02, -4.84677218e-02,  6.33781170e-03],\n",
       "       [-9.09882039e-03,  1.83823369e-02, -2.10490432e-02, ...,\n",
       "         7.12936511e-03, -2.07488686e-02, -5.88578507e-02]])"
      ]
     },
     "execution_count": 31,
     "metadata": {},
     "output_type": "execute_result"
    }
   ],
   "source": [
    "embeddings"
   ]
  },
  {
   "cell_type": "markdown",
   "id": "510e52cf",
   "metadata": {},
   "source": [
    "```\n",
    "[\n",
    "  [0.11, 0.98, ..., 0.21],  # Embedding for chunk 0\n",
    "  [0.10, 0.97, ..., 0.25],  # Embedding for chunk 1\n",
    "  ...\n",
    "]\n",
    "```"
   ]
  },
  {
   "cell_type": "code",
   "execution_count": 32,
   "id": "bb5adb8f",
   "metadata": {},
   "outputs": [],
   "source": [
    "import umap.umap_ as umap"
   ]
  },
  {
   "cell_type": "markdown",
   "id": "0efceb32",
   "metadata": {},
   "source": [
    "* umap.UMAP(...) initializes the dimensionality reduction algorithm.\n",
    "    * random_state=0 ensures reproducibility.\n",
    "    * transform_seed=0 ensures consistent transforms for new points.\n",
    "* .fit(embeddings) learns a 2D map from high-dimensional vectors.\n",
    "* umap_transform now holds a trained projection model to map embeddings → 2D space."
   ]
  },
  {
   "cell_type": "code",
   "execution_count": 44,
   "id": "988b1885",
   "metadata": {},
   "outputs": [
    {
     "name": "stderr",
     "output_type": "stream",
     "text": [
      "c:\\Users\\think\\anaconda3\\Lib\\site-packages\\umap\\umap_.py:1952: UserWarning: n_jobs value 1 overridden to 1 by setting random_state. Use no seed for parallelism.\n",
      "  warn(\n"
     ]
    }
   ],
   "source": [
    "umap_transform = umap.UMAP(random_state=0, transform_seed=0).fit(embeddings)"
   ]
  },
  {
   "cell_type": "code",
   "execution_count": null,
   "id": "cd6622ce",
   "metadata": {},
   "outputs": [],
   "source": [
    "projected_dataset_embeddings = umap_transform.transform(embeddings)"
   ]
  },
  {
   "cell_type": "markdown",
   "id": "dc5c7987",
   "metadata": {},
   "source": [
    "projected_dataset_embeddings is now:\n",
    "```\n",
    "[\n",
    "  [1.02, 4.33],   # 2D X,Y position of chunk 0\n",
    "  [1.55, 4.10],   # 2D position of chunk 1\n",
    "  ...\n",
    "]\n",
    "```"
   ]
  },
  {
   "cell_type": "code",
   "execution_count": 50,
   "id": "8c500612",
   "metadata": {},
   "outputs": [],
   "source": [
    "model= build_embedding_model()\n",
    "retrieved_embeddings = joint_query_retrieval_answer[\"embeddings\"][0]\n",
    "original_query_embedding = model.encode([query])\n",
    "augmented_query_embedding = model.encode([joint_query])\n"
   ]
  },
  {
   "cell_type": "code",
   "execution_count": null,
   "id": "90f90160",
   "metadata": {},
   "outputs": [],
   "source": [
    "projected_original_query_embedding = umap_transform.transform(original_query_embedding)\n",
    "projected_augmented_query_embedding = umap_transform.transform(augmented_query_embedding)\n",
    "projected_retrieved_embeddings = umap_transform.transform(retrieved_embeddings)"
   ]
  },
  {
   "cell_type": "markdown",
   "id": "c558f40a",
   "metadata": {},
   "source": [
    "| Variable                        | What it contains                          | Purpose                                   |\n",
    "|---------------------------------|------------------------------------------|-------------------------------------------|\n",
    "| `embeddings`                    | All document chunk embeddings (384D)      | Raw data                                  |\n",
    "| `umap_transform`                | 2D projection model from UMAP            | To reduce dimensions                      |\n",
    "| `projected_dataset_embeddings`  | All chunks in 2D space                   | For gray scatter plot                     |\n",
    "| `retrieved_embeddings`          | Top-5 matched doc embeddings             | Green circles in visualization            |\n",
    "| `original_query_embedding`      | Embedding of user's query                | Red \"X\" marker in plot                    |\n",
    "| `augmented_query_embedding`     | Embedding of HyDE query                  | Orange \"X\" marker in plot                 |\n",
    "| `project_embeddings(...)`       | Applies `umap_transform` to map to 2D    | Used for visualization                    |"
   ]
  },
  {
   "cell_type": "code",
   "execution_count": 53,
   "id": "0306f0bf",
   "metadata": {},
   "outputs": [
    {
     "data": {
      "image/png": "[encoded data removed]",
      "text/plain": [
       "<Figure size 640x480 with 1 Axes>"
      ]
     },
     "metadata": {},
     "output_type": "display_data"
    }
   ],
   "source": [
    "import matplotlib.pyplot as plt\n",
    "\n",
    "# Plot the projected query and retrieved documents in the embedding space\n",
    "plt.figure()\n",
    "\n",
    "plt.scatter(\n",
    "    projected_dataset_embeddings[:, 0],\n",
    "    projected_dataset_embeddings[:, 1],\n",
    "    s=10,\n",
    "    color=\"gray\",\n",
    ")\n",
    "plt.scatter(\n",
    "    projected_retrieved_embeddings[:, 0],\n",
    "    projected_retrieved_embeddings[:, 1],\n",
    "    s=100,\n",
    "    facecolors=\"none\",\n",
    "    edgecolors=\"g\",\n",
    ")\n",
    "plt.scatter(\n",
    "    projected_original_query_embedding[:, 0],\n",
    "    projected_original_query_embedding[:, 1],\n",
    "    s=150,\n",
    "    marker=\"X\",\n",
    "    color=\"r\",\n",
    ")\n",
    "plt.scatter(\n",
    "    projected_augmented_query_embedding[:, 0],\n",
    "    projected_augmented_query_embedding[:, 1],\n",
    "    s=150,\n",
    "    marker=\"X\",\n",
    "    color=\"orange\",\n",
    ")\n",
    "\n",
    "plt.gca().set_aspect(\"equal\", \"datalim\")\n",
    "plt.title(f\"{query}\")\n",
    "plt.axis(\"off\")\n",
    "plt.show()  # display the plot"
   ]
  }
 ],
 "metadata": {
  "kernelspec": {
   "display_name": "prp_class",
   "language": "python",
   "name": "prp_class"
  },
  "language_info": {
   "codemirror_mode": {
    "name": "ipython",
    "version": 3
   },
   "file_extension": ".py",
   "mimetype": "text/x-python",
   "name": "python",
   "nbconvert_exporter": "python",
   "pygments_lexer": "ipython3",
   "version": "3.12.7"
  }
 },
 "nbformat": 4,
 "nbformat_minor": 5
}
