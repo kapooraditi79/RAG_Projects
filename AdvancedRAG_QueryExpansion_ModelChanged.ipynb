{
 "cells": [
  {
   "cell_type": "markdown",
   "id": "775222b8",
   "metadata": {},
   "source": [
    "Referenced Sites\n",
    "https://docs.llamaindex.ai/en/stable/examples/node_parsers/semantic_chunking/\n",
    "\n",
    "https://hasanaboulhasan.medium.com/the-best-text-chunking-method-f5faeb243d80\n",
    "\n",
    "https://docs.llamaindex.ai/en/stable/api_reference/embeddings/huggingface/\n",
    "\n",
    "https://docs.llamaindex.ai/en/stable/api_reference/node_parsers/token_text_splitter/\n",
    "\n",
    "https://docs.llamaindex.ai/en/stable/examples/embeddings/ollama_embedding/\n",
    "\n",
    "https://ollama.com/blog/embedding-models\n",
    "\n",
    "https://docs.llamaindex.ai/en/stable/examples/llm/ollama_gemma/\n",
    "\n",
    "https://docs.llamaindex.ai/en/stable/module_guides/models/embeddings/\n",
    "\n"
   ]
  },
  {
   "cell_type": "code",
   "execution_count": 1,
   "id": "3b7dc6a4",
   "metadata": {},
   "outputs": [],
   "source": [
    "import chromadb\n",
    "import os\n",
    "from pypdf import PdfReader"
   ]
  },
  {
   "cell_type": "code",
   "execution_count": 2,
   "id": "1472aca8",
   "metadata": {},
   "outputs": [],
   "source": [
    "# extract the text from pdf\n",
    "def extract_text_from_pdf(pdf_path):\n",
    "    pdf_texts=[]\n",
    "    for filename in os.listdir(pdf_path):\n",
    "        pdf_path= os.path.join(pdf_path, filename)\n",
    "        if filename.endswith('.pdf'):\n",
    "            reader= PdfReader(pdf_path)\n",
    "            text=''\n",
    "            for page in reader.pages:\n",
    "                text+=page.extract_text().strip()\n",
    "            pdf_texts.append(text.strip())\n",
    "    return pdf_texts"
   ]
  },
  {
   "cell_type": "code",
   "execution_count": 3,
   "id": "89c74ea9",
   "metadata": {},
   "outputs": [],
   "source": [
    "extracted_text_from_pdf= extract_text_from_pdf('google_pdfs')"
   ]
  },
  {
   "cell_type": "code",
   "execution_count": 5,
   "id": "c05426e3",
   "metadata": {},
   "outputs": [],
   "source": [
    "extracted_text_from_pdf= '\\n'.join(extracted_text_from_pdf)"
   ]
  },
  {
   "cell_type": "markdown",
   "id": "35ba2101",
   "metadata": {},
   "source": [
    "an embedding model is required to do the semantic chunking siupported by langchain.\n",
    "\n",
    "For that here i use ollama embeddings"
   ]
  },
  {
   "cell_type": "code",
   "execution_count": null,
   "id": "f1f9d091",
   "metadata": {},
   "outputs": [],
   "source": [
    "! pip install llama-index-embeddings-huggingface"
   ]
  },
  {
   "cell_type": "code",
   "execution_count": 7,
   "id": "15e74b1e",
   "metadata": {},
   "outputs": [],
   "source": [
    "from llama_index.embeddings.huggingface import HuggingFaceEmbedding\n",
    "embed_model=HuggingFaceEmbedding(model_name='BAAI/bge-small-en')"
   ]
  },
  {
   "cell_type": "code",
   "execution_count": 8,
   "id": "6736fc1b",
   "metadata": {},
   "outputs": [],
   "source": [
    "from llama_index.core.node_parser import (\n",
    "    SemanticSplitterNodeParser,\n",
    "    SentenceSplitter)\n",
    "from llama_index.core.schema import Document\n",
    "\n",
    "\n",
    "splitter=SemanticSplitterNodeParser(\n",
    "    buffer_size=5, \n",
    "    breakpoint_percentile_threshold=70,\n",
    "    embed_model=embed_model,\n",
    ")\n",
    "\n",
    "doc=Document(text=extracted_text_from_pdf)\n"
   ]
  },
  {
   "cell_type": "code",
   "execution_count": 9,
   "id": "3097cbef",
   "metadata": {},
   "outputs": [],
   "source": [
    "# chunk the pdf text now\n",
    "nodes= splitter.get_nodes_from_documents([doc])"
   ]
  },
  {
   "cell_type": "code",
   "execution_count": 29,
   "id": "69771920",
   "metadata": {},
   "outputs": [
    {
     "name": "stdout",
     "output_type": "stream",
     "text": [
      "Security Ownership of Certain Beneficial Owners and Management and \n",
      "Related Stockholder Matters\n",
      "90\n",
      "Item 13. Certain Relationships and Related Transactions, and Director Independence 90\n",
      "Item 14. Principal Accountant Fees and Services 90\n",
      "Part IV Item 15. Exhibits, Financial Statement Schedules 91\n",
      "Item 16. Form 10-K Summary 94\n",
      "Signatures 95iv Alphabet 2023 Annual Report\n",
      "NOTE ABOUT FORWARD-LOOKING STATEMENTS\n",
      "This Annual Report on Form 10-K contains forward-looking statements within the meaning of the Private Securities Litigation \n",
      "Reform Act of 1995. These include, among other things, statements regarding:\n",
      "• the growth of our business and revenues and our \n",
      "expectations about the factors that influence our success \n",
      "and trends in our business;\n",
      "• fluctuations in our revenues and margins and various \n",
      "factors contributing to such fluctuations;\n",
      "• our expectation that the continuing shift from an offline to \n",
      "online world will continue to benefit our business;\n",
      "• our expectation that the portion of our revenues that we \n",
      "derive beyond advertising will continue to increase and may \n",
      "affect our margins;\n",
      "• our expectation that our traffic acquisition costs (TAC) and \n",
      "the associated TAC rate will fluctuate, which could affect \n",
      "our overall margins;\n",
      "• our expectation that our monetization trends will fluctuate, \n",
      "which could affect our revenues and margins;\n",
      "• fluctuations in paid clicks and cost-per-click as well as \n",
      "impressions and cost-per-impression, and various factors \n",
      "contributing to such fluctuations;\n",
      "• our expectation that we will continue to periodically review, \n",
      "refine, and update our methodologies for monitoring, \n",
      "gathering, and counting the number of paid clicks and \n",
      "impressions;\n",
      "• our expectation that our results will be affected by our \n",
      "performance in international markets as users in developing \n",
      "economies increasingly come online;\n",
      "• our expectation that our foreign exchange risk management \n",
      "program will not fully offset our net exposure to fluctuations \n",
      "in foreign currency exchange rates;\n",
      "• the expected variability of gains and losses related \n",
      "to hedging activities under our foreign exchange risk \n",
      "management program;\n",
      "• the amount and timing of revenue recognition from \n",
      "customer contracts with commitments for performance \n",
      "obligations, including our estimate of the remaining amount \n",
      "of commitments and when we expect to recognize revenue;\n",
      "• our expectation that our capital expenditures will \n",
      "increase, including the expected increase in our technical \n",
      "infrastructure investment to support the growth of our \n",
      "business and our long-term initiatives, in particular in \n",
      "support of artificial intelligence (AI) products and services;\n",
      "• our plans to continue to invest in new businesses, products, \n",
      "services and technologies, and systems, as well as to \n",
      "continue to invest in acquisitions and strategic investments;\n",
      "• our pace of hiring and our plans to provide competitive \n",
      "compensation programs;\n",
      "• our expectation that our cost of revenues, research \n",
      "and development (R&D) expenses, sales and marketing \n",
      "expenses, and general and administrative expenses may \n",
      "increase in amount and/or may increase as a percentage \n",
      "of revenues and may be affected by a number of factors;\n",
      "• estimates of our future compensation expenses;\n",
      "• our expectation that our other income (expense), net \n",
      "(OI&E), will fluctuate in the future, as it is largely driven by \n",
      "market dynamics;\n",
      "• our expectation that our effective tax rate and cash tax \n",
      "payments could increase in future years;\n",
      "• seasonal fluctuations in internet usage and advertiser \n",
      "expenditures, underlying business trends such as traditional \n",
      "retail seasonality, which are likely to cause fluctuations in \n",
      "our quarterly results;\n",
      "• the sufficiency of our sources of funding;\n",
      "• our potential exposure in connection with new and pending \n",
      "investigations, proceedings, and other contingencies, \n",
      "including the possibility that certain legal proceedings to \n",
      "which we are a party could harm our business, financial \n",
      "condition, and operating results;\n",
      "• our expectation that we will continue to face heightened \n",
      "regulatory scrutiny and changes in regulatory conditions, \n",
      "laws, and public policies, which could affect our business \n",
      "practices and financial results;\n",
      "• the expected timing, amount, and effect of Alphabet Inc.’s \n",
      "share repurchases;\n",
      "• our long-term sustainability and diversity goals;\n",
      "as well as other statements regarding our future operations, \n",
      "financial condition and prospects, and business strategies. \n",
      "Forward-looking statements may appear throughout this \n",
      "report and other documents we file with the Securities and \n",
      "Exchange Commission (SEC), including without limitation, \n",
      "the following sections: Part I, Item 1 “Business;” Part I, \n",
      "Item 1A “Risk Factors;” and Part II, Item 7 “Management’s \n",
      "Discussion and Analysis of Financial Condition and Results \n",
      "of Operations.” Forward-looking statements generally can be \n",
      "identified by words such as “anticipates,” “believes,” “could,” \n",
      "“estimates,” “expects,” “intends,” “may,” “plans,” “predicts,” \n",
      "“projects,” “will be,” “will continue,” “will likely result,” and \n",
      "similar expressions. These forward-looking statements are \n",
      "based on current expectations and assumptions that are \n",
      "subject to risks and uncertainties, which could cause our \n",
      "actual results to differ materially from those reflected in the \n",
      "forward-looking statements. Factors that could cause or \n",
      "contribute to such differences include, but are not limited \n",
      "to, those discussed in this Annual Report on Form 10-K, \n",
      "including the risks discussed in Part I, Item 1A “Risk Factors” \n",
      "and the trends discussed in Part II, Item 7 “Management’s \n",
      "Discussion and Analysis of Financial Condition and Results of \n",
      "Operations,” and those discussed in other documents we file \n",
      "with the SEC. We undertake no obligation to revise or publicly \n",
      "release the results of any revision to these forward-looking \n",
      "statements, except as required by law. \n"
     ]
    }
   ],
   "source": [
    "print(nodes[100].get_content())"
   ]
  },
  {
   "cell_type": "code",
   "execution_count": 13,
   "id": "fd55ada8",
   "metadata": {},
   "outputs": [],
   "source": [
    "# get the text chunks\n",
    "chunked_data= [node.get_content() for node in nodes]"
   ]
  },
  {
   "cell_type": "markdown",
   "id": "77632299",
   "metadata": {},
   "source": [
    "* When you tokenize text with Hugging Face's AutoTokenizer, it returns a dictionary of token IDs, attention masks, etc.\n",
    "* These token IDs are numerical representations of subword tokens.\n",
    "\n",
    "For example:\n",
    "\n",
    "```\n",
    "tokenizer(\"Hello\")  ➝ {'input_ids': [101, 3872, 776, 102], ...}\n",
    "Here, 3872 and 776 are subword token IDs.\n",
    "```\n",
    "\n",
    "If you want to see the subwords, do this:\n",
    "\n",
    "```\n",
    "tokenizer.tokenize(\"hey there\") ➝ ['hey', 'there']\n",
    "tokenizer.convert_ids_to_tokens(tokenizer(\"Hey there\")['input_ids']) \n",
    "```"
   ]
  },
  {
   "cell_type": "code",
   "execution_count": 19,
   "id": "cc9db369",
   "metadata": {},
   "outputs": [],
   "source": [
    "import chromadb\n",
    "from sentence_transformers import SentenceTransformer"
   ]
  },
  {
   "cell_type": "code",
   "execution_count": 20,
   "id": "ed0a2467",
   "metadata": {},
   "outputs": [],
   "source": [
    "# build your chroma db vector database\n",
    "model_name_or_path = 'BAAI/bge-small-en'\n",
    "\n",
    "def build_embeddings_and_store_in_vector_db(chunked_data):\n",
    "    \n",
    "    # get the embedding model\n",
    "    embedding_model= SentenceTransformer(model_name_or_path)\n",
    "\n",
    "    # craete the chroma client\n",
    "    client = chromadb.PersistentClient(\n",
    "        path=\"google_pdf_embeddings\"\n",
    "    )\n",
    "\n",
    "    # define the collection [like a table]\n",
    "    collection= client.get_or_create_collection(\n",
    "        name=\"google_collection\",\n",
    "    ) \n",
    "\n",
    "    # get the embedding of each chunk\n",
    "    embedding= embedding_model.encode(chunked_data)\n",
    "\n",
    "    # add this to the collection\n",
    "    collection.add(\n",
    "        documents=chunked_data,\n",
    "        ids=[str(i) for i in range(len(chunked_data))],\n",
    "        embeddings= embedding,\n",
    "        metadatas=[{\"source\": \"google_pdfs\"}] * len(chunked_data),\n",
    "    )\n",
    "    return collection"
   ]
  },
  {
   "cell_type": "code",
   "execution_count": 21,
   "id": "817964c8",
   "metadata": {},
   "outputs": [
    {
     "data": {
      "application/vnd.jupyter.widget-view+json": {
       "model_id": "32d611db9d6343e4be2e19995b3ae943",
       "version_major": 2,
       "version_minor": 0
      },
      "text/plain": [
       "modules.json:   0%|          | 0.00/349 [00:00<?, ?B/s]"
      ]
     },
     "metadata": {},
     "output_type": "display_data"
    },
    {
     "name": "stderr",
     "output_type": "stream",
     "text": [
      "c:\\Users\\think\\anaconda3\\Lib\\site-packages\\huggingface_hub\\file_download.py:139: UserWarning: `huggingface_hub` cache-system uses symlinks by default to efficiently store duplicated files but your machine does not support them in C:\\Users\\think\\.cache\\huggingface\\hub\\models--BAAI--bge-small-en. Caching files will still work but in a degraded version that might require more space on your disk. This warning can be disabled by setting the `HF_HUB_DISABLE_SYMLINKS_WARNING` environment variable. For more details, see https://huggingface.co/docs/huggingface_hub/how-to-cache#limitations.\n",
      "To support symlinks on Windows, you either need to activate Developer Mode or to run Python as an administrator. In order to activate developer mode, see this article: https://docs.microsoft.com/en-us/windows/apps/get-started/enable-your-device-for-development\n",
      "  warnings.warn(message)\n"
     ]
    },
    {
     "data": {
      "application/vnd.jupyter.widget-view+json": {
       "model_id": "834353c5e64b49729552fda2f3c6a76e",
       "version_major": 2,
       "version_minor": 0
      },
      "text/plain": [
       "config_sentence_transformers.json:   0%|          | 0.00/124 [00:00<?, ?B/s]"
      ]
     },
     "metadata": {},
     "output_type": "display_data"
    },
    {
     "data": {
      "application/vnd.jupyter.widget-view+json": {
       "model_id": "f724f066b5994a84bb6a410dc4ef08bd",
       "version_major": 2,
       "version_minor": 0
      },
      "text/plain": [
       "README.md: 0.00B [00:00, ?B/s]"
      ]
     },
     "metadata": {},
     "output_type": "display_data"
    },
    {
     "data": {
      "application/vnd.jupyter.widget-view+json": {
       "model_id": "7a4260fddd414e18b3a1a535f68c95d6",
       "version_major": 2,
       "version_minor": 0
      },
      "text/plain": [
       "sentence_bert_config.json:   0%|          | 0.00/52.0 [00:00<?, ?B/s]"
      ]
     },
     "metadata": {},
     "output_type": "display_data"
    },
    {
     "data": {
      "application/vnd.jupyter.widget-view+json": {
       "model_id": "aa72e89fa35b4d83990c64c13b21f948",
       "version_major": 2,
       "version_minor": 0
      },
      "text/plain": [
       "config.json:   0%|          | 0.00/684 [00:00<?, ?B/s]"
      ]
     },
     "metadata": {},
     "output_type": "display_data"
    },
    {
     "data": {
      "application/vnd.jupyter.widget-view+json": {
       "model_id": "f4d95f947893417a971e0884e05a2e3d",
       "version_major": 2,
       "version_minor": 0
      },
      "text/plain": [
       "model.safetensors:   0%|          | 0.00/133M [00:00<?, ?B/s]"
      ]
     },
     "metadata": {},
     "output_type": "display_data"
    },
    {
     "data": {
      "application/vnd.jupyter.widget-view+json": {
       "model_id": "f6b715d00f2048cf9751ee9e60a5799b",
       "version_major": 2,
       "version_minor": 0
      },
      "text/plain": [
       "tokenizer_config.json:   0%|          | 0.00/366 [00:00<?, ?B/s]"
      ]
     },
     "metadata": {},
     "output_type": "display_data"
    },
    {
     "data": {
      "application/vnd.jupyter.widget-view+json": {
       "model_id": "5da04b6b411b420b94f657db63e6f918",
       "version_major": 2,
       "version_minor": 0
      },
      "text/plain": [
       "vocab.txt: 0.00B [00:00, ?B/s]"
      ]
     },
     "metadata": {},
     "output_type": "display_data"
    },
    {
     "data": {
      "application/vnd.jupyter.widget-view+json": {
       "model_id": "3546edf077d34e8ca3f8ded40fa050fc",
       "version_major": 2,
       "version_minor": 0
      },
      "text/plain": [
       "tokenizer.json: 0.00B [00:00, ?B/s]"
      ]
     },
     "metadata": {},
     "output_type": "display_data"
    },
    {
     "data": {
      "application/vnd.jupyter.widget-view+json": {
       "model_id": "14ee0bf63bb445e791faf5a935915020",
       "version_major": 2,
       "version_minor": 0
      },
      "text/plain": [
       "special_tokens_map.json:   0%|          | 0.00/125 [00:00<?, ?B/s]"
      ]
     },
     "metadata": {},
     "output_type": "display_data"
    },
    {
     "data": {
      "application/vnd.jupyter.widget-view+json": {
       "model_id": "3b00893563934c8cb6c51370a320282d",
       "version_major": 2,
       "version_minor": 0
      },
      "text/plain": [
       "config.json:   0%|          | 0.00/190 [00:00<?, ?B/s]"
      ]
     },
     "metadata": {},
     "output_type": "display_data"
    }
   ],
   "source": [
    "collection_built= build_embeddings_and_store_in_vector_db(chunked_data=chunked_data)"
   ]
  },
  {
   "cell_type": "markdown",
   "id": "5aa4636a",
   "metadata": {},
   "source": [
    "* Now lets define a query\n",
    "* Send it in to the LLM\n",
    "* Recieve the Relevant queries"
   ]
  },
  {
   "cell_type": "code",
   "execution_count": 30,
   "id": "d77deb2d",
   "metadata": {},
   "outputs": [],
   "source": [
    "import ollama\n",
    "def send_query_to_llm_for_more_queries(query, model_name=\"gemma3n:latest\"):\n",
    "    prompt = f\"\"\"   You are a knowledgeable financial research assistant. \n",
    "    Your users are inquiring about an annual report. \n",
    "    For the given question, propose up to five related questions to assist them in finding the information they need. \n",
    "    Provide concise, single-topic questions (withouth compounding sentences) that cover various aspects of the topic. \n",
    "    Ensure each question is complete and directly related to the original inquiry. \n",
    "    List each question on a separate line without numbering.\n",
    "    \n",
    "\n",
    "    Question:\n",
    "    {query}\n",
    "\n",
    "    Answer:\"\"\"\n",
    "    \n",
    "\n",
    "    try:\n",
    "        response = ollama.chat(\n",
    "            model=model_name,\n",
    "            messages=[\n",
    "                {\n",
    "                    'role': 'user',\n",
    "                    'content': prompt,\n",
    "                }\n",
    "            ],\n",
    "            options={\n",
    "                'temperature': 0.5, #[ closer to 0: Deterministic]\n",
    "                'max_tokens': 250,  # length of response\n",
    "                'top_p': 0.7, # Filters the model's vocabulary to the top probable tokens.\n",
    "            }                 # Range: 0.1 (strict) to 1.0 (broad).\n",
    "        )\n",
    "        return response['message']['content']\n",
    "    except Exception as e:\n",
    "        return f\"Error generating response: {str(e)}\"\n"
   ]
  },
  {
   "cell_type": "code",
   "execution_count": 31,
   "id": "99abcee4",
   "metadata": {},
   "outputs": [],
   "source": [
    "query=\"How did the google's revenue change from 2022 to 2023? And Why?\""
   ]
  },
  {
   "cell_type": "code",
   "execution_count": 32,
   "id": "82af2371",
   "metadata": {},
   "outputs": [],
   "source": [
    "similar_queries= send_query_to_llm_for_more_queries(query=query, model_name=\"gemma3n:latest\")"
   ]
  },
  {
   "cell_type": "code",
   "execution_count": 33,
   "id": "ed70d867",
   "metadata": {},
   "outputs": [
    {
     "data": {
      "text/plain": [
       "\"What was Google's total revenue in 2022?\\nWhat was Google's total revenue in 2023?\\nWhat were the primary drivers of Google's revenue growth or decline between 2022 and 2023?\\nHow did revenue from Google's advertising business change between 2022 and 2023?\\nWhat was the impact of economic conditions on Google's revenue during 2022 and 2023?\\n\\n\\n\\n\""
      ]
     },
     "execution_count": 33,
     "metadata": {},
     "output_type": "execute_result"
    }
   ],
   "source": [
    "similar_queries"
   ]
  },
  {
   "cell_type": "code",
   "execution_count": 35,
   "id": "bb18e8fc",
   "metadata": {},
   "outputs": [],
   "source": [
    "# now make an augmented query\n",
    "def augment_query_with_similar_queries(original_query, similar_queries):\n",
    "    return f\"{original_query}/n {similar_queries}\""
   ]
  },
  {
   "cell_type": "code",
   "execution_count": 36,
   "id": "8dcd1a55",
   "metadata": {},
   "outputs": [],
   "source": [
    "augmented_query= augment_query_with_similar_queries(\n",
    "    original_query=query,\n",
    "    similar_queries=similar_queries)"
   ]
  },
  {
   "cell_type": "markdown",
   "id": "046555e5",
   "metadata": {},
   "source": [
    "retrieve the queries results from the Vector Database"
   ]
  },
  {
   "cell_type": "code",
   "execution_count": 38,
   "id": "8f304777",
   "metadata": {},
   "outputs": [],
   "source": [
    "retrieved_results= collection_built.query(\n",
    "    query_texts=[augmented_query],\n",
    "    n_results=5,\n",
    "    include=[\"documents\"]\n",
    ")"
   ]
  },
  {
   "cell_type": "code",
   "execution_count": 39,
   "id": "69ec56ab",
   "metadata": {},
   "outputs": [
    {
     "data": {
      "text/plain": [
       "{'ids': [['297', '32', '265', '370', '308']],\n",
       " 'embeddings': None,\n",
       " 'documents': [['Changes in cost-per-click and cost-per-impression are driven by a number of interrelated factors including changes in \\ndevice mix, geographic mix, advertiser spending, ongoing product and policy changes, product mix, property mix, and \\nchanges in foreign currency exchange rates.\\nGoogle subscriptions, platforms, and devices\\nGoogle subscriptions, platforms, and devices revenues increased $5.6 billion from 2022 to 2023 primarily driven by \\ngrowth in subscriptions, largely for YouTube services. The growth in YouTube services was primarily due to an increase in \\npaid subscribers.\\nGoogle subscriptions, platforms, and devices revenues increased $1.0 billion from 2021 to 2022 primarily driven by growth \\nin subscription and device revenues, partially offset by a decrease in platform revenues. The growth in subscriptions was \\nlargely for YouTube services, primarily due to an increase in paid subscribers. ',\n",
       "   'Google was built in the cloud from the start, \\neven though we only launched our Cloud business \\nin 2008. Today, Google Cloud has become one of \\nthe top enterprise companies in the world. ',\n",
       "   'When \\ndeveloping new products and services we generally focus first on user experience and then on monetization.\\n26 Alphabet 2023 Annual Report\\nPart I Part II Part III Part IV• As\\tusers\\tin\\tdeveloping\\teconomies\\tincreasingly\\tcome\\tonline,our\\trevenues from\\tinternationalmarkets\\tcontinue\\t\\nto\\tincrease,\\tand\\tmay\\trequire\\tcontinued\\tinvestments.\\tIn\\taddition,\\tmovementsin foreign\\texchange\\trates\\taffect\\nsuch\\trevenues.\\nThe shift to online, as well as the advent of the multi-device world, has brought opportunities outside of the U.S., including \\nin emerging markets, such as India. We continue to invest heavily and develop localized versions of our products and \\nadvertising programs relevant to our users in these markets. This has led to a trend of increased revenues from emerging \\nmarkets. We expect that our results will continue to be affected by our performance in these markets, particularly as \\nlow-cost mobile devices become more available. This trend could affect our revenues as developing markets initially \\nmonetize at a lower rate than more mature markets.\\nInternational revenues represent a significant portion of our revenues and are subject to fluctuations in foreign currency \\nexchange rates relative to the U.S. dollar. While we have a foreign exchange risk management program designed to reduce \\nour exposure to these fluctuations, this program does not fully offset their effect on our revenues and earnings.\\n• The\\trevenues\\tthat\\twe\\tderive\\tbeyond\\tadvertising\\tare\\tincreasing\\tand\\tmay\\tadverselyaffect\\tour\\tmargins.\\nRevenues from cloud, consumer subscriptions, platforms, and devices, which may have differing characteristics than our \\nadvertising revenues, have grown over time, and we expect this trend to continue as we focus on expanding our products \\nand services. The margins on these revenues vary significantly and are generally lower than the margins on our advertising \\nrevenues. For example, sales of our devices adversely affect our consolidated margins due to pressures on pricing and \\nhigher cost of sales.\\n• As\\twe\\tcontinue\\tto\\tserve\\tour\\tusers and\\texpand\\tour businesses,\\twe will invest heavily\\tin\\toperating and\\tcapital\\t\\nexpenditures.\\n',\n",
       "   '(\"Alphabet\") became the successor \\nissuer to Google.\\n',\n",
       "   'General and Administrative\\nThe following table presents general and administrative expenses (in millions, except percentages):\\nYear Ended December 31,\\n2022 2023\\nGeneral and administrative expenses $ 15,724 $ 16,425\\nGeneral and administrative expenses as a percentage of revenues 6% 5%\\nGeneral and administrative expenses increased $701 million from 2022 to 2023, primarily driven by an increase in \\ncompensation expenses of $416 million, which was largely the result of $264 million in employee severance charges \\nassociated with the reduction in our workforce in addition to a combination of other factors, none of which were \\nindividually significant. \\nSegment Profitability\\nThe following table presents segment operating income (loss) (in millions).\\nYear Ended December 31,\\n2022 2023\\nOperating income (loss):\\nGoogle Services $ 82,699 $ 95,858\\nGoogle Cloud (1,922) 1,716\\nOther Bets  (4,636)  (4,095)\\nAlphabet-level activities(1)  (1,299)  (9,186)\\nTotal income from operations $ 74,842 $ 84,293\\n(1) In addition to the costs included in Alphabet-level activities, hedging gains (losses) related to revenue were $2.0 billion and $236 million \\nin 2022 and 2023, respectively. For the year ended December 31, 2023, Alphabet-level activities include charges related to the reduction \\nin force and our office space optimization efforts totaling $3.9 billion. ']],\n",
       " 'uris': None,\n",
       " 'included': ['documents'],\n",
       " 'data': None,\n",
       " 'metadatas': None,\n",
       " 'distances': None}"
      ]
     },
     "execution_count": 39,
     "metadata": {},
     "output_type": "execute_result"
    }
   ],
   "source": [
    "retrieved_results"
   ]
  },
  {
   "cell_type": "markdown",
   "id": "3415747f",
   "metadata": {},
   "source": [
    "hmmm.. seems a better reply..\n",
    "\n",
    "lets test this"
   ]
  },
  {
   "cell_type": "code",
   "execution_count": 40,
   "id": "be6c0ae2",
   "metadata": {},
   "outputs": [],
   "source": [
    "# send the response to the LLM for summarization\n",
    "def send_retrieved_response_llm(retrieved_response, model_name=\"gemma3n:latest\"):\n",
    "    prompt = f\"\"\"You are a financial research assistant. \n",
    "    Also let the users know what all information [line by line] was provided to you.\n",
    "    Your users have retrieved information from an annual report. \n",
    "    Summarize the key points from the provided text, focusing on the main findings and insights. \n",
    "    Ensure the summary is concise and captures the essence of the information.\n",
    "\n",
    "    Retrieved Information:\n",
    "    {retrieved_response}\n",
    "\n",
    "    Summary:\"\"\"\n",
    "    \n",
    "    try:\n",
    "        response = ollama.chat(\n",
    "            model=model_name,\n",
    "            messages=[\n",
    "                {\n",
    "                    'role': 'user',\n",
    "                    'content': prompt,\n",
    "                }\n",
    "            ],\n",
    "            options={\n",
    "                'temperature': 0.5, #[ closer to 0: Deterministic]\n",
    "                'max_tokens': 300,  # length of response\n",
    "                'top_p': 0.7, # Filters the model's vocabulary to the top probable tokens.\n",
    "            }                 # Range: 0.1 (strict) to 1.0 (broad).\n",
    "        )\n",
    "        return response['message']['content']\n",
    "    except Exception as e:\n",
    "        return f\"Error generating response: {str(e)}\"\n"
   ]
  },
  {
   "cell_type": "code",
   "execution_count": 41,
   "id": "ceac1dd4",
   "metadata": {},
   "outputs": [],
   "source": [
    "final_response=send_retrieved_response_llm(retrieved_response=retrieved_results['documents'], model_name=\"gemma3n:latest\")"
   ]
  },
  {
   "cell_type": "code",
   "execution_count": 42,
   "id": "3bf12116",
   "metadata": {},
   "outputs": [
    {
     "data": {
      "text/plain": [
       "\"## Summary of Key Points from Alphabet's 2023 Annual Report\\n\\nThis summary highlights the key findings and insights from the provided text, focusing on financial performance, strategic direction, and market trends.\\n\\n**Financial Performance:**\\n\\n*   **Revenue Growth:** Google subscriptions, platforms, and devices revenue increased significantly from 2022 to 2023 ($5.6 billion) and from 2021 to 2022 ($1.0 billion), primarily driven by growth in YouTube subscriptions.\\n*   **International Revenue:** Revenues from international markets are increasing, driven by growing internet adoption, particularly in emerging markets like India. However, these revenues are susceptible to fluctuations in foreign currency exchange rates.\\n*   **Non-Advertising Revenue Growth:** Revenues beyond advertising (cloud, subscriptions, platforms, devices) are growing, but these revenues generally have lower margins than advertising. Device sales, in particular, can negatively impact overall margins due to pricing and cost pressures.\\n*   **Operating Income:** Total income from operations increased from $74.842 billion in 2022 to $84.293 billion in 2023, driven by growth in Google Services and Google Cloud.\\n*   **General & Administrative Expenses:** G&A expenses increased from $15.724 billion in 2022 to $16.425 billion in 2023, largely due to increased compensation expenses related to workforce reductions.\\n*   **Google Cloud:** Google Cloud experienced a shift from a loss in 2022 to an operating income of $1.716 billion in 2023, indicating improved performance.\\n\\n**Strategic Insights:**\\n\\n*   **User-Centric Development:** Alphabet prioritizes user experience when developing new products and services, followed by monetization strategies.\\n*   **Cloud Focus:** Google Cloud, established in 2008, has become a major enterprise player.\\n*   **Emerging Markets:**  Significant investment is being made in developing localized products and advertising programs to capitalize on the growth in online users in emerging markets.\\n*   **Investment in Operations:**  Continued heavy investment in operating and capital expenditures is planned to support business expansion.\\n\\n**Key Risks & Considerations:**\\n\\n*   **Foreign Exchange Risk:** Fluctuations in foreign currency exchange rates pose a risk to international revenues.\\n*   **Margin Pressure:** Non-advertising revenues have lower margins, potentially impacting overall profitability.\\n*   **Workforce Optimization:**  Significant workforce reductions and office space optimization efforts are underway, resulting in associated costs.\\n\\n\\n\\n**Information Provided to Generate this Summary:**\\n\\n1.  **Changes in cost-per-click and cost-per-impression...changes in foreign currency exchange rates.** - Explains factors influencing advertising costs.\\n2.  **Google subscriptions, platforms, and devices revenues increased $5.6 billion from 2022 to 2023...paid subscribers.** - Details revenue growth in this segment, driven by YouTube subscriptions.\\n3.  **Google was built in the cloud...top enterprise companies in the world.** - Highlights the company's history and current position in cloud computing.\\n4.  **When developing new products and services...2023 Annual Report.** -  Outlines the company's product development philosophy.\\n5.  **As users in developing economies increasingly come online...emerging markets.** - Discusses the importance of international markets and the associated investment.\\n6.  **International revenues represent a significant portion of our revenues...U.S. dollar.** -  Addresses the impact of foreign exchange rates on international revenue.\\n7.  **Revenues that we derive beyond advertising...advertising revenues.** - Explains the growth of non-advertising revenues and their margin characteristics.\\n8.  **(Alphabet) became the successor issuer to Google.** - Provides a corporate structure detail.\\n9.  **General and Administrative...2023.** - Presents G&A expenses and their percentage of revenues for 2022 and 2023, along with a breakdown of the increase in G&A expenses.\\n10. **Segment Profitability...2022 2023.** - Shows operating income (loss) for Google Services, Google Cloud, Other Bets, and Alphabet-level activities for 2022 and 2023.\\n11. **In addition to the costs included in Alphabet-level activities...2023.** - Provides additional context on charges related to workforce reductions and office space optimization.\\n\\n\\n\\n\""
      ]
     },
     "execution_count": 42,
     "metadata": {},
     "output_type": "execute_result"
    }
   ],
   "source": [
    "final_response"
   ]
  },
  {
   "cell_type": "markdown",
   "id": "ec416ea1",
   "metadata": {},
   "source": [
    "\"## Summary of Key Points from Alphabet's 2023 Annual Report\\n\\nThis summary highlights the key findings and insights from the provided text, focusing on financial performance, strategic direction, and market trends.\\n\\n**Financial Performance:**\\n\\n*   **Revenue Growth:** Google subscriptions, platforms, and devices revenue increased significantly from 2022 to 2023 ($5.6 billion) and from 2021 to 2022 ($1.0 billion), primarily driven by growth in YouTube subscriptions.\\n*   **International Revenue:** Revenues from international markets are increasing, driven by growing internet adoption, particularly in emerging markets like India. However, these revenues are susceptible to fluctuations in foreign currency exchange rates.\\n*   **Non-Advertising Revenue Growth:** Revenues beyond advertising (cloud, subscriptions, platforms, devices) are growing, but these revenues generally have lower margins than advertising. Device sales, in particular, can negatively impact overall margins due to pricing and cost pressures.\\n*   **Operating Income:** Total income from operations increased from $74.842 billion in 2022 to $84.293 billion in 2023, driven by growth in Google Services and Google Cloud.\\n*   **General & Administrative Expenses:** G&A expenses increased from $15.724 billion in 2022 to $16.425 billion in 2023, largely due to increased compensation expenses related to workforce reductions.\\n*   **Google Cloud:** Google Cloud experienced a shift from a loss in 2022 to an operating income of $1.716 billion in 2023, indicating improved performance.\\n\\n**Strategic Insights:**\\n\\n*   **User-Centric Development:** Alphabet prioritizes user experience when developing new products and services, followed by monetization strategies.\\n*   **Cloud Focus:** Google Cloud, established in 2008, has become a major enterprise player.\\n*   **Emerging Markets:**  Significant investment is being made in developing localized products and advertising programs to capitalize on the growth in online users in emerging markets.\\n*   **Investment in Operations:**  Continued heavy investment in operating and capital expenditures is planned to support business expansion.\\n\\n**Key Risks & Considerations:**\\n\\n*   **Foreign Exchange Risk:** Fluctuations in foreign currency exchange rates pose a risk to international revenues.\\n*   **Margin Pressure:** Non-advertising revenues have lower margins, potentially impacting overall profitability.\\n*   **Workforce Optimization:**  Significant workforce reductions and office space optimization efforts are underway, resulting in associated costs.\\n\\n\\n\\n**Information Provided to Generate this Summary:**\\n\\n1.  **Changes in cost-per-click and cost-per-impression...changes in foreign currency exchange rates.** - Explains factors influencing advertising costs.\\n2.  **Google subscriptions, platforms, and devices revenues increased $5.6 billion from 2022 to 2023...paid subscribers.** - Details revenue growth in this segment, driven by YouTube subscriptions.\\n3.  **Google was built in the cloud...top enterprise companies in the world.** - Highlights the company's history and current position in cloud computing.\\n4.  **When developing new products and services...2023 Annual Report.** -  Outlines the company's product development philosophy.\\n5.  **As users in developing economies increasingly come online...emerging markets.** - Discusses the importance of international markets and the associated investment.\\n6.  **International revenues represent a significant portion of our revenues...U.S. dollar.** -  Addresses the impact of foreign exchange rates on international revenue.\\n7.  **Revenues that we derive beyond advertising...advertising revenues.** - Explains the growth of non-advertising revenues and their margin characteristics.\\n8.  **(Alphabet) became the successor issuer to Google.** - Provides a corporate structure detail.\\n9.  **General and Administrative...2023.** - Presents G&A expenses and their percentage of revenues for 2022 and 2023, along with a breakdown of the increase in G&A expenses.\\n10. **Segment Profitability...2022 2023.** - Shows operating income (loss) for Google Services, Google Cloud, Other Bets, and Alphabet-level activities for 2022 and 2023.\\n11. **In addition to the costs included in Alphabet-level activities...2023.** - Provides additional context on charges related to workforce reductions and office space optimization.\\n\\n\\n\\n\""
   ]
  },
  {
   "cell_type": "markdown",
   "id": "ffc618fd",
   "metadata": {},
   "source": [
    "So i evaluated the final_response given by LLM.\n",
    "\n",
    "On a rating of 1-10 these are the ratings for each question it gave->\n",
    "\n",
    "* How did Google's revenue change from 2022 to 2023?\n",
    "    * Assessment: 7/10 (Provides specific segment growth but lacks a holistic view of total revenue change).\n",
    "\n",
    "* Why? \n",
    "    * Assessment: Rating: 6/10 (Identifies key drivers like YouTube and emerging markets but lacks depth on other factors).\n",
    "\n",
    "* What was Google's total revenue in 2022?\n",
    "    * Assessment: Rating: 1/10 (No direct answer provided).\n",
    "\n",
    "* What was Google's total revenue in 2023?\n",
    "    * Assessment: Rating: 1/10 (No direct answer provided).\n",
    "\n",
    "* What were the primary drivers of Google's revenue growth or decline between 2022 and 2023?\n",
    "    * Assessment: 7/10 (Covers major drivers but lacks comprehensive detail on all segments).\n",
    "\n",
    "* How did revenue from Google's advertising business change between 2022 and 2023?\n",
    "    * Assessment: Rating: 2/10 (No direct data on advertising revenue changes, only indirect references).\n",
    "\n",
    "* What was the impact of economic conditions on Google's revenue during 2022 and 2023?\n",
    "    * Assessment: Rating: 3/10 (Only indirectly mentions foreign exchange risks, no broader economic context).\n"
   ]
  },
  {
   "cell_type": "markdown",
   "id": "f81ad9a0",
   "metadata": {},
   "source": [
    "#### We can see that there is still scope of improvement."
   ]
  }
 ],
 "metadata": {
  "kernelspec": {
   "display_name": "prp_class",
   "language": "python",
   "name": "prp_class"
  },
  "language_info": {
   "codemirror_mode": {
    "name": "ipython",
    "version": 3
   },
   "file_extension": ".py",
   "mimetype": "text/x-python",
   "name": "python",
   "nbconvert_exporter": "python",
   "pygments_lexer": "ipython3",
   "version": "3.12.7"
  }
 },
 "nbformat": 4,
 "nbformat_minor": 5
}
